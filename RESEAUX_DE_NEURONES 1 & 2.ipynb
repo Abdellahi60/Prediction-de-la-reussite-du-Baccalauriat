{
 "cells": [
  {
   "cell_type": "markdown",
   "id": "995ca653-8942-4260-a0e0-ebd3cdb47d3c",
   "metadata": {},
   "source": [
    "# Modele RESEAUX DE NEURONES 1"
   ]
  },
  {
   "cell_type": "markdown",
   "id": "383a0330-1aad-4d5d-930b-5c02b149765f",
   "metadata": {},
   "source": [
    "## Importataion"
   ]
  },
  {
   "cell_type": "code",
   "execution_count": 16,
   "id": "1572243c-982c-48f3-8e54-020a616ba106",
   "metadata": {},
   "outputs": [],
   "source": [
    "import pandas as pd\n",
    "from sklearn.metrics import accuracy_score, precision_score, recall_score, f1_score\n",
    "from sklearn.preprocessing import StandardScaler, OneHotEncoder\n",
    "from sklearn.compose import ColumnTransformer\n",
    "from sklearn.model_selection import train_test_split"
   ]
  },
  {
   "cell_type": "code",
   "execution_count": 8,
   "id": "25c82937-e5e8-4d1c-b310-188f7c2c57f3",
   "metadata": {},
   "outputs": [
    {
     "data": {
      "text/html": [
       "<div>\n",
       "<style scoped>\n",
       "    .dataframe tbody tr th:only-of-type {\n",
       "        vertical-align: middle;\n",
       "    }\n",
       "\n",
       "    .dataframe tbody tr th {\n",
       "        vertical-align: top;\n",
       "    }\n",
       "\n",
       "    .dataframe thead th {\n",
       "        text-align: right;\n",
       "    }\n",
       "</style>\n",
       "<table border=\"1\" class=\"dataframe\">\n",
       "  <thead>\n",
       "    <tr style=\"text-align: right;\">\n",
       "      <th></th>\n",
       "      <th>Unnamed: 0</th>\n",
       "      <th>Serie,x</th>\n",
       "      <th>GroupeAnonymat</th>\n",
       "      <th>LieuNaissance</th>\n",
       "      <th>Centre</th>\n",
       "      <th>Etablissement</th>\n",
       "      <th>Decision</th>\n",
       "      <th>Willaya</th>\n",
       "      <th>moughataa</th>\n",
       "      <th>DateNaissance</th>\n",
       "    </tr>\n",
       "  </thead>\n",
       "  <tbody>\n",
       "    <tr>\n",
       "      <th>0</th>\n",
       "      <td>27634</td>\n",
       "      <td>SN</td>\n",
       "      <td>SN09</td>\n",
       "      <td>Bathet meit</td>\n",
       "      <td>Lycée Jedida</td>\n",
       "      <td>Lycée Jedida</td>\n",
       "      <td>Ajourné</td>\n",
       "      <td>Nouakchott 2 (Ouest)</td>\n",
       "      <td>KSAR</td>\n",
       "      <td>12 ديسمبر 1998</td>\n",
       "    </tr>\n",
       "    <tr>\n",
       "      <th>1</th>\n",
       "      <td>36311</td>\n",
       "      <td>LO</td>\n",
       "      <td>LO1</td>\n",
       "      <td>Beir Taouress</td>\n",
       "      <td>Lycée Arafat 2 (A)</td>\n",
       "      <td>Lycée Arafat 2</td>\n",
       "      <td>Ajourné</td>\n",
       "      <td>Nouakchott 3 (Sud)</td>\n",
       "      <td>ARAFAT</td>\n",
       "      <td>26 ديسمبر 1991</td>\n",
       "    </tr>\n",
       "    <tr>\n",
       "      <th>2</th>\n",
       "      <td>21059</td>\n",
       "      <td>LM</td>\n",
       "      <td>LM3</td>\n",
       "      <td>Akjoujt</td>\n",
       "      <td>Lycée Akjoujt</td>\n",
       "      <td>Lycée Akjoujt</td>\n",
       "      <td>Ajourné</td>\n",
       "      <td>Inchiri</td>\n",
       "      <td>AKJOUJT</td>\n",
       "      <td>8 مايو 1995</td>\n",
       "    </tr>\n",
       "    <tr>\n",
       "      <th>3</th>\n",
       "      <td>24532</td>\n",
       "      <td>SN</td>\n",
       "      <td>SN06</td>\n",
       "      <td>Chelkhet Tiyab</td>\n",
       "      <td>Lycée Toujounine 1</td>\n",
       "      <td>Lycée Toujounine 1</td>\n",
       "      <td>Ajourné</td>\n",
       "      <td>Nouakchott 1 (Nord)</td>\n",
       "      <td>TOUJOUNINE</td>\n",
       "      <td>24 avr. 1999</td>\n",
       "    </tr>\n",
       "    <tr>\n",
       "      <th>4</th>\n",
       "      <td>17861</td>\n",
       "      <td>SN</td>\n",
       "      <td>SN03</td>\n",
       "      <td>Aere M'Bar</td>\n",
       "      <td>Lycée Nouadhibou 2</td>\n",
       "      <td>Lycée Wava Nouadhibou</td>\n",
       "      <td>Ajourné</td>\n",
       "      <td>Dakhlet NDB</td>\n",
       "      <td>NOUADHIBOU</td>\n",
       "      <td>10 mai 2001</td>\n",
       "    </tr>\n",
       "  </tbody>\n",
       "</table>\n",
       "</div>"
      ],
      "text/plain": [
       "   Unnamed: 0 Serie,x GroupeAnonymat   LieuNaissance              Centre  \\\n",
       "0       27634      SN           SN09     Bathet meit        Lycée Jedida   \n",
       "1       36311      LO            LO1   Beir Taouress  Lycée Arafat 2 (A)   \n",
       "2       21059      LM            LM3         Akjoujt       Lycée Akjoujt   \n",
       "3       24532      SN           SN06  Chelkhet Tiyab  Lycée Toujounine 1   \n",
       "4       17861      SN           SN03      Aere M'Bar  Lycée Nouadhibou 2   \n",
       "\n",
       "           Etablissement Decision               Willaya   moughataa  \\\n",
       "0           Lycée Jedida  Ajourné  Nouakchott 2 (Ouest)        KSAR   \n",
       "1         Lycée Arafat 2  Ajourné    Nouakchott 3 (Sud)      ARAFAT   \n",
       "2          Lycée Akjoujt  Ajourné               Inchiri     AKJOUJT   \n",
       "3     Lycée Toujounine 1  Ajourné   Nouakchott 1 (Nord)  TOUJOUNINE   \n",
       "4  Lycée Wava Nouadhibou  Ajourné           Dakhlet NDB  NOUADHIBOU   \n",
       "\n",
       "    DateNaissance  \n",
       "0  12 ديسمبر 1998  \n",
       "1  26 ديسمبر 1991  \n",
       "2     8 مايو 1995  \n",
       "3    24 avr. 1999  \n",
       "4     10 mai 2001  "
      ]
     },
     "execution_count": 8,
     "metadata": {},
     "output_type": "execute_result"
    }
   ],
   "source": [
    "data=pd.read_csv('train_set.csv')\n",
    "data=data.drop(['moyeneGeneral','Note1', 'Note2', 'Note3','Note4', 'Note5', 'Note6', 'Note7', 'Note8','Nom','ID'],axis=1)\n",
    "data.head()"
   ]
  },
  {
   "cell_type": "markdown",
   "id": "88fdffea-ee40-480c-b18f-dff1f4871098",
   "metadata": {},
   "source": [
    "## preprocessing"
   ]
  },
  {
   "cell_type": "code",
   "execution_count": 9,
   "id": "cf9b2265-1187-4581-a15f-3a674c45edb9",
   "metadata": {},
   "outputs": [],
   "source": [
    "### creer une colonne pour connaitre l'age\n",
    "data['age'] = data['DateNaissance'].apply(  \n",
    "    lambda x: int(x.split(\"-\")[2] if '-' in x else int(x.split(\" \")[2]) )\n",
    "    ).apply(lambda x : 2021 - x if x > 1900  else ( 121 - x if x > 21 else 21 - x))"
   ]
  },
  {
   "cell_type": "code",
   "execution_count": 10,
   "id": "89e28cab-5cf2-4ffd-9a96-cb67c0f9afa2",
   "metadata": {},
   "outputs": [],
   "source": [
    "data=data.drop('Unnamed: 0',axis=1)"
   ]
  },
  {
   "cell_type": "code",
   "execution_count": 11,
   "id": "48130b63-2e03-4e62-a8a3-28a87a7ecdc2",
   "metadata": {},
   "outputs": [],
   "source": [
    "# Transformer les observations\n",
    "data['Decision'] = data['Decision'].replace(['Ajourné', 'Sessionnaire', 'Abscent', 'Examen annulé à cause du Téléphone', 'Examen annulé à cause du comportement'], 'Ajourné')"
   ]
  },
  {
   "cell_type": "code",
   "execution_count": 12,
   "id": "0a44e49a-3263-46d2-978f-1e6bb2f382ef",
   "metadata": {},
   "outputs": [
    {
     "data": {
      "text/html": [
       "<div>\n",
       "<style scoped>\n",
       "    .dataframe tbody tr th:only-of-type {\n",
       "        vertical-align: middle;\n",
       "    }\n",
       "\n",
       "    .dataframe tbody tr th {\n",
       "        vertical-align: top;\n",
       "    }\n",
       "\n",
       "    .dataframe thead th {\n",
       "        text-align: right;\n",
       "    }\n",
       "</style>\n",
       "<table border=\"1\" class=\"dataframe\">\n",
       "  <thead>\n",
       "    <tr style=\"text-align: right;\">\n",
       "      <th></th>\n",
       "      <th>Serie,x</th>\n",
       "      <th>GroupeAnonymat</th>\n",
       "      <th>LieuNaissance</th>\n",
       "      <th>Centre</th>\n",
       "      <th>Etablissement</th>\n",
       "      <th>Decision</th>\n",
       "      <th>Willaya</th>\n",
       "      <th>moughataa</th>\n",
       "      <th>DateNaissance</th>\n",
       "      <th>age</th>\n",
       "    </tr>\n",
       "  </thead>\n",
       "  <tbody>\n",
       "    <tr>\n",
       "      <th>0</th>\n",
       "      <td>SN</td>\n",
       "      <td>SN09</td>\n",
       "      <td>Bathet meit</td>\n",
       "      <td>Lycée Jedida</td>\n",
       "      <td>Lycée Jedida</td>\n",
       "      <td>1</td>\n",
       "      <td>Nouakchott 2 (Ouest)</td>\n",
       "      <td>KSAR</td>\n",
       "      <td>12 ديسمبر 1998</td>\n",
       "      <td>23</td>\n",
       "    </tr>\n",
       "    <tr>\n",
       "      <th>1</th>\n",
       "      <td>LO</td>\n",
       "      <td>LO1</td>\n",
       "      <td>Beir Taouress</td>\n",
       "      <td>Lycée Arafat 2 (A)</td>\n",
       "      <td>Lycée Arafat 2</td>\n",
       "      <td>1</td>\n",
       "      <td>Nouakchott 3 (Sud)</td>\n",
       "      <td>ARAFAT</td>\n",
       "      <td>26 ديسمبر 1991</td>\n",
       "      <td>30</td>\n",
       "    </tr>\n",
       "    <tr>\n",
       "      <th>2</th>\n",
       "      <td>LM</td>\n",
       "      <td>LM3</td>\n",
       "      <td>Akjoujt</td>\n",
       "      <td>Lycée Akjoujt</td>\n",
       "      <td>Lycée Akjoujt</td>\n",
       "      <td>1</td>\n",
       "      <td>Inchiri</td>\n",
       "      <td>AKJOUJT</td>\n",
       "      <td>8 مايو 1995</td>\n",
       "      <td>26</td>\n",
       "    </tr>\n",
       "    <tr>\n",
       "      <th>3</th>\n",
       "      <td>SN</td>\n",
       "      <td>SN06</td>\n",
       "      <td>Chelkhet Tiyab</td>\n",
       "      <td>Lycée Toujounine 1</td>\n",
       "      <td>Lycée Toujounine 1</td>\n",
       "      <td>1</td>\n",
       "      <td>Nouakchott 1 (Nord)</td>\n",
       "      <td>TOUJOUNINE</td>\n",
       "      <td>24 avr. 1999</td>\n",
       "      <td>22</td>\n",
       "    </tr>\n",
       "    <tr>\n",
       "      <th>4</th>\n",
       "      <td>SN</td>\n",
       "      <td>SN03</td>\n",
       "      <td>Aere M'Bar</td>\n",
       "      <td>Lycée Nouadhibou 2</td>\n",
       "      <td>Lycée Wava Nouadhibou</td>\n",
       "      <td>1</td>\n",
       "      <td>Dakhlet NDB</td>\n",
       "      <td>NOUADHIBOU</td>\n",
       "      <td>10 mai 2001</td>\n",
       "      <td>20</td>\n",
       "    </tr>\n",
       "  </tbody>\n",
       "</table>\n",
       "</div>"
      ],
      "text/plain": [
       "  Serie,x GroupeAnonymat   LieuNaissance              Centre  \\\n",
       "0      SN           SN09     Bathet meit        Lycée Jedida   \n",
       "1      LO            LO1   Beir Taouress  Lycée Arafat 2 (A)   \n",
       "2      LM            LM3         Akjoujt       Lycée Akjoujt   \n",
       "3      SN           SN06  Chelkhet Tiyab  Lycée Toujounine 1   \n",
       "4      SN           SN03      Aere M'Bar  Lycée Nouadhibou 2   \n",
       "\n",
       "           Etablissement  Decision               Willaya   moughataa  \\\n",
       "0           Lycée Jedida         1  Nouakchott 2 (Ouest)        KSAR   \n",
       "1         Lycée Arafat 2         1    Nouakchott 3 (Sud)      ARAFAT   \n",
       "2          Lycée Akjoujt         1               Inchiri     AKJOUJT   \n",
       "3     Lycée Toujounine 1         1   Nouakchott 1 (Nord)  TOUJOUNINE   \n",
       "4  Lycée Wava Nouadhibou         1           Dakhlet NDB  NOUADHIBOU   \n",
       "\n",
       "    DateNaissance  age  \n",
       "0  12 ديسمبر 1998   23  \n",
       "1  26 ديسمبر 1991   30  \n",
       "2     8 مايو 1995   26  \n",
       "3    24 avr. 1999   22  \n",
       "4     10 mai 2001   20  "
      ]
     },
     "execution_count": 12,
     "metadata": {},
     "output_type": "execute_result"
    }
   ],
   "source": [
    "### encoder la variable target \n",
    "### pour l'encodage on a associe 0 a admis et 1 pour ajournee \n",
    "data['Decision']=pd.get_dummies(data['Decision'],drop_first=True)\n",
    "data.head()"
   ]
  },
  {
   "cell_type": "code",
   "execution_count": 108,
   "id": "81b327eb-7f2a-4d79-9047-5acf8564fed6",
   "metadata": {},
   "outputs": [],
   "source": [
    "# Séparer les variables indépendantes et la variable dépendante\n",
    "X = data.drop('Decision',axis=1)\n",
    "y = data['Decision']"
   ]
  },
  {
   "cell_type": "code",
   "execution_count": 109,
   "id": "f50bfa79-85b7-42ed-b81e-d68d4342820d",
   "metadata": {},
   "outputs": [],
   "source": [
    "# Diviser les données en données d'entraînement et de test\n",
    "X_train, X_test, y_train, y_test = train_test_split(X, y, test_size=0.2, random_state=42,stratify =y)"
   ]
  },
  {
   "cell_type": "code",
   "execution_count": 110,
   "id": "12e45e95-557c-4890-ad34-be4c375cec98",
   "metadata": {},
   "outputs": [],
   "source": [
    "# Définir les colonnes catégorielles et numériques\n",
    "cat_cols = ['Serie,x', 'GroupeAnonymat', 'LieuNaissance', 'Centre', 'Etablissement', 'Willaya', 'moughataa']\n",
    "num_cols = ['age']"
   ]
  },
  {
   "cell_type": "code",
   "execution_count": 111,
   "id": "4d7ab9d1-2996-45e5-ad4e-a11b297d3f99",
   "metadata": {},
   "outputs": [],
   "source": [
    "# Prétraitement des données\n",
    "preprocessor = ColumnTransformer(transformers=[\n",
    "    ('num', StandardScaler(), num_cols),\n",
    "    ('cat', OneHotEncoder(handle_unknown='ignore'), cat_cols)])\n",
    "\n",
    "X_train = preprocessor.fit_transform(X_train)\n",
    "X_test = preprocessor.transform(X_test)"
   ]
  },
  {
   "cell_type": "code",
   "execution_count": 112,
   "id": "9c045b93-1ebd-4b5d-89e2-c2d6efc2c8a9",
   "metadata": {},
   "outputs": [
    {
     "data": {
      "text/plain": [
       "(19115, 1061)"
      ]
     },
     "execution_count": 112,
     "metadata": {},
     "output_type": "execute_result"
    }
   ],
   "source": [
    "X_train.shape"
   ]
  },
  {
   "cell_type": "markdown",
   "id": "a5f4ef94-3981-4686-beb9-933fa935e036",
   "metadata": {},
   "source": [
    "## Entrainer le modele "
   ]
  },
  {
   "cell_type": "markdown",
   "id": "6164189a-6472-48ce-9032-29d7ba4f6764",
   "metadata": {},
   "source": [
    "On va construire un réseaux de neurones de type MLP en utilisant la fonction MLPClassifier() . Ici on construit un MLP de 13-13-13, c.a.d 13 entrées, 13 neurones dans la première couche cachée et 13 neurones dans la deuxième couche cachée, avec un maximum d’itération (époques) égale à 700"
   ]
  },
  {
   "cell_type": "code",
   "execution_count": 71,
   "id": "ade64f94-57d3-415d-9417-707c316433a3",
   "metadata": {},
   "outputs": [],
   "source": [
    "from sklearn.neural_network import MLPClassifier\n",
    "\n",
    "mlp = MLPClassifier(hidden_layer_sizes=(10,13, 13) , max_iter=700)"
   ]
  },
  {
   "cell_type": "code",
   "execution_count": 72,
   "id": "ab224985-09a8-4bea-a572-423e66156c3c",
   "metadata": {},
   "outputs": [
    {
     "data": {
      "text/plain": [
       "MLPClassifier(hidden_layer_sizes=(10, 13, 13), max_iter=700)"
      ]
     },
     "execution_count": 72,
     "metadata": {},
     "output_type": "execute_result"
    }
   ],
   "source": [
    "mlp.fit(X_train,y_train)"
   ]
  },
  {
   "cell_type": "code",
   "execution_count": 24,
   "id": "bfc022c9-2156-411d-8b6a-e2e72eab138f",
   "metadata": {},
   "outputs": [],
   "source": [
    "pred=mlp.predict(X_test)"
   ]
  },
  {
   "cell_type": "code",
   "execution_count": 73,
   "id": "51758d18-4009-4ece-b997-c835cf1b026b",
   "metadata": {},
   "outputs": [
    {
     "data": {
      "text/plain": [
       "array([1, 0, 1, ..., 1, 1, 1], dtype=uint8)"
      ]
     },
     "execution_count": 73,
     "metadata": {},
     "output_type": "execute_result"
    }
   ],
   "source": [
    "pred"
   ]
  },
  {
   "cell_type": "markdown",
   "id": "046b5742-764c-4ce0-8901-8ebb0849c0df",
   "metadata": {},
   "source": [
    "### Evaluation du modele"
   ]
  },
  {
   "cell_type": "code",
   "execution_count": 27,
   "id": "7d6baf38-3c19-4910-af06-c17d9dbf5f96",
   "metadata": {},
   "outputs": [],
   "source": [
    "from sklearn.metrics import classification_report, confusion_matrix"
   ]
  },
  {
   "cell_type": "code",
   "execution_count": 30,
   "id": "7593c6b9-5878-4bd1-9d6a-d230f20532be",
   "metadata": {},
   "outputs": [
    {
     "name": "stdout",
     "output_type": "stream",
     "text": [
      "              precision    recall  f1-score   support\n",
      "\n",
      "           0       0.32      0.19      0.24       395\n",
      "           1       0.93      0.96      0.95      4384\n",
      "\n",
      "    accuracy                           0.90      4779\n",
      "   macro avg       0.62      0.58      0.59      4779\n",
      "weighted avg       0.88      0.90      0.89      4779\n",
      "\n"
     ]
    }
   ],
   "source": [
    "print(classification_report(y_test, pred))"
   ]
  },
  {
   "cell_type": "markdown",
   "id": "16f61386-0f2d-4789-918a-e912add5c19e",
   "metadata": {},
   "source": [
    "### Prediction du dataset submission_template"
   ]
  },
  {
   "cell_type": "code",
   "execution_count": 31,
   "id": "51bc8cda-157b-436b-94bc-ba8d7cf08ffb",
   "metadata": {},
   "outputs": [],
   "source": [
    "### Importation\n",
    "new=pd.read_csv('new_data.csv')\n",
    "new=new.drop('Unnamed: 0',axis=1)\n",
    "new=new.drop('prediction',axis=1)"
   ]
  },
  {
   "cell_type": "code",
   "execution_count": 32,
   "id": "4db84511-e165-4dbd-8100-8ae2d99129ff",
   "metadata": {},
   "outputs": [],
   "source": [
    "new1=new.drop('Nom',axis=1)"
   ]
  },
  {
   "cell_type": "code",
   "execution_count": 33,
   "id": "6bd2c1f0-37d6-4c7f-b8e9-8785035861ab",
   "metadata": {},
   "outputs": [],
   "source": [
    "X_test2 = preprocessor.transform(new1)"
   ]
  },
  {
   "cell_type": "code",
   "execution_count": 35,
   "id": "9ce7b041-95d4-44bb-9bd5-154eb524be4f",
   "metadata": {},
   "outputs": [],
   "source": [
    "y_pred2 = mlp.predict(X_test2)"
   ]
  },
  {
   "cell_type": "code",
   "execution_count": 36,
   "id": "bfd7249c-a226-4ee3-8321-8f86c635058d",
   "metadata": {},
   "outputs": [
    {
     "data": {
      "text/plain": [
       "1    15018\n",
       "0      912\n",
       "dtype: int64"
      ]
     },
     "execution_count": 36,
     "metadata": {},
     "output_type": "execute_result"
    }
   ],
   "source": [
    "g=pd.DataFrame(y_pred2)\n",
    "g.value_counts()"
   ]
  },
  {
   "cell_type": "code",
   "execution_count": 37,
   "id": "c9e2a485-c73d-4493-b86e-088056efed6e",
   "metadata": {},
   "outputs": [],
   "source": [
    "proba=mlp.predict_proba(X_test2)"
   ]
  },
  {
   "cell_type": "code",
   "execution_count": 38,
   "id": "0822b84f-1a87-4a25-9f9e-162b4e45dcb9",
   "metadata": {},
   "outputs": [
    {
     "data": {
      "text/plain": [
       "15930"
      ]
     },
     "execution_count": 38,
     "metadata": {},
     "output_type": "execute_result"
    }
   ],
   "source": [
    "pre=proba[:, 0]\n",
    "len(pre)"
   ]
  },
  {
   "cell_type": "code",
   "execution_count": 39,
   "id": "94287bdd-689e-4431-a745-e30573c9e22f",
   "metadata": {},
   "outputs": [
    {
     "data": {
      "text/html": [
       "<div>\n",
       "<style scoped>\n",
       "    .dataframe tbody tr th:only-of-type {\n",
       "        vertical-align: middle;\n",
       "    }\n",
       "\n",
       "    .dataframe tbody tr th {\n",
       "        vertical-align: top;\n",
       "    }\n",
       "\n",
       "    .dataframe thead th {\n",
       "        text-align: right;\n",
       "    }\n",
       "</style>\n",
       "<table border=\"1\" class=\"dataframe\">\n",
       "  <thead>\n",
       "    <tr style=\"text-align: right;\">\n",
       "      <th></th>\n",
       "      <th>ID</th>\n",
       "      <th>Serie,x</th>\n",
       "      <th>GroupeAnonymat</th>\n",
       "      <th>LieuNaissance</th>\n",
       "      <th>Centre</th>\n",
       "      <th>Etablissement</th>\n",
       "      <th>Willaya</th>\n",
       "      <th>moughataa</th>\n",
       "      <th>age</th>\n",
       "    </tr>\n",
       "  </thead>\n",
       "  <tbody>\n",
       "    <tr>\n",
       "      <th>0</th>\n",
       "      <td>ID_15</td>\n",
       "      <td>SN</td>\n",
       "      <td>SN09</td>\n",
       "      <td>Vassala</td>\n",
       "      <td>Lycée Vassala</td>\n",
       "      <td>Lycée Vassala</td>\n",
       "      <td>Hod Charghy</td>\n",
       "      <td>BASSEKNOU</td>\n",
       "      <td>22</td>\n",
       "    </tr>\n",
       "    <tr>\n",
       "      <th>1</th>\n",
       "      <td>ID_22</td>\n",
       "      <td>SN</td>\n",
       "      <td>SN09</td>\n",
       "      <td>Vassala</td>\n",
       "      <td>Lycée Vassala</td>\n",
       "      <td>Lycée Vassala</td>\n",
       "      <td>Hod Charghy</td>\n",
       "      <td>BASSEKNOU</td>\n",
       "      <td>18</td>\n",
       "    </tr>\n",
       "    <tr>\n",
       "      <th>2</th>\n",
       "      <td>ID_23</td>\n",
       "      <td>SN</td>\n",
       "      <td>SN09</td>\n",
       "      <td>Vassala</td>\n",
       "      <td>Lycée Vassala</td>\n",
       "      <td>Lycée Vassala</td>\n",
       "      <td>Hod Charghy</td>\n",
       "      <td>BASSEKNOU</td>\n",
       "      <td>18</td>\n",
       "    </tr>\n",
       "    <tr>\n",
       "      <th>3</th>\n",
       "      <td>ID_29</td>\n",
       "      <td>SN</td>\n",
       "      <td>SN09</td>\n",
       "      <td>Vassala</td>\n",
       "      <td>Lycée Vassala</td>\n",
       "      <td>Lycée Vassala</td>\n",
       "      <td>Hod Charghy</td>\n",
       "      <td>BASSEKNOU</td>\n",
       "      <td>21</td>\n",
       "    </tr>\n",
       "    <tr>\n",
       "      <th>4</th>\n",
       "      <td>ID_34</td>\n",
       "      <td>SN</td>\n",
       "      <td>SN09</td>\n",
       "      <td>Vassala</td>\n",
       "      <td>Lycée Vassala</td>\n",
       "      <td>Lycée Vassala</td>\n",
       "      <td>Hod Charghy</td>\n",
       "      <td>BASSEKNOU</td>\n",
       "      <td>21</td>\n",
       "    </tr>\n",
       "  </tbody>\n",
       "</table>\n",
       "</div>"
      ],
      "text/plain": [
       "      ID Serie,x GroupeAnonymat LieuNaissance         Centre  Etablissement  \\\n",
       "0  ID_15      SN           SN09       Vassala  Lycée Vassala  Lycée Vassala   \n",
       "1  ID_22      SN           SN09       Vassala  Lycée Vassala  Lycée Vassala   \n",
       "2  ID_23      SN           SN09       Vassala  Lycée Vassala  Lycée Vassala   \n",
       "3  ID_29      SN           SN09       Vassala  Lycée Vassala  Lycée Vassala   \n",
       "4  ID_34      SN           SN09       Vassala  Lycée Vassala  Lycée Vassala   \n",
       "\n",
       "       Willaya  moughataa  age  \n",
       "0  Hod Charghy  BASSEKNOU   22  \n",
       "1  Hod Charghy  BASSEKNOU   18  \n",
       "2  Hod Charghy  BASSEKNOU   18  \n",
       "3  Hod Charghy  BASSEKNOU   21  \n",
       "4  Hod Charghy  BASSEKNOU   21  "
      ]
     },
     "execution_count": 39,
     "metadata": {},
     "output_type": "execute_result"
    }
   ],
   "source": [
    "new1.head()"
   ]
  },
  {
   "cell_type": "code",
   "execution_count": 40,
   "id": "b5ebc7ef-c3ce-4837-9fb8-9a820bcbdd7e",
   "metadata": {},
   "outputs": [],
   "source": [
    "new1['predicted2']=pre"
   ]
  },
  {
   "cell_type": "code",
   "execution_count": 41,
   "id": "0e352296-7265-4770-84d0-f9328927c5a7",
   "metadata": {},
   "outputs": [],
   "source": [
    "submission=new1[['ID','predicted2']]"
   ]
  },
  {
   "cell_type": "code",
   "execution_count": 42,
   "id": "ca465a3a-65af-4de2-8761-50b6f6942f4e",
   "metadata": {},
   "outputs": [
    {
     "data": {
      "text/html": [
       "<div>\n",
       "<style scoped>\n",
       "    .dataframe tbody tr th:only-of-type {\n",
       "        vertical-align: middle;\n",
       "    }\n",
       "\n",
       "    .dataframe tbody tr th {\n",
       "        vertical-align: top;\n",
       "    }\n",
       "\n",
       "    .dataframe thead th {\n",
       "        text-align: right;\n",
       "    }\n",
       "</style>\n",
       "<table border=\"1\" class=\"dataframe\">\n",
       "  <thead>\n",
       "    <tr style=\"text-align: right;\">\n",
       "      <th></th>\n",
       "      <th>ID</th>\n",
       "      <th>predicted2</th>\n",
       "    </tr>\n",
       "  </thead>\n",
       "  <tbody>\n",
       "    <tr>\n",
       "      <th>0</th>\n",
       "      <td>ID_15</td>\n",
       "      <td>6.465927e-09</td>\n",
       "    </tr>\n",
       "    <tr>\n",
       "      <th>1</th>\n",
       "      <td>ID_22</td>\n",
       "      <td>6.434701e-05</td>\n",
       "    </tr>\n",
       "    <tr>\n",
       "      <th>2</th>\n",
       "      <td>ID_23</td>\n",
       "      <td>6.434701e-05</td>\n",
       "    </tr>\n",
       "    <tr>\n",
       "      <th>3</th>\n",
       "      <td>ID_29</td>\n",
       "      <td>6.322630e-08</td>\n",
       "    </tr>\n",
       "    <tr>\n",
       "      <th>4</th>\n",
       "      <td>ID_34</td>\n",
       "      <td>6.322630e-08</td>\n",
       "    </tr>\n",
       "    <tr>\n",
       "      <th>...</th>\n",
       "      <td>...</td>\n",
       "      <td>...</td>\n",
       "    </tr>\n",
       "    <tr>\n",
       "      <th>15925</th>\n",
       "      <td>ID_13569</td>\n",
       "      <td>7.514444e-03</td>\n",
       "    </tr>\n",
       "    <tr>\n",
       "      <th>15926</th>\n",
       "      <td>ID_31670</td>\n",
       "      <td>8.427066e-10</td>\n",
       "    </tr>\n",
       "    <tr>\n",
       "      <th>15927</th>\n",
       "      <td>ID_31759</td>\n",
       "      <td>9.038548e-12</td>\n",
       "    </tr>\n",
       "    <tr>\n",
       "      <th>15928</th>\n",
       "      <td>ID_5855</td>\n",
       "      <td>2.504802e-06</td>\n",
       "    </tr>\n",
       "    <tr>\n",
       "      <th>15929</th>\n",
       "      <td>ID_13889</td>\n",
       "      <td>8.776379e-04</td>\n",
       "    </tr>\n",
       "  </tbody>\n",
       "</table>\n",
       "<p>15930 rows × 2 columns</p>\n",
       "</div>"
      ],
      "text/plain": [
       "             ID    predicted2\n",
       "0         ID_15  6.465927e-09\n",
       "1         ID_22  6.434701e-05\n",
       "2         ID_23  6.434701e-05\n",
       "3         ID_29  6.322630e-08\n",
       "4         ID_34  6.322630e-08\n",
       "...         ...           ...\n",
       "15925  ID_13569  7.514444e-03\n",
       "15926  ID_31670  8.427066e-10\n",
       "15927  ID_31759  9.038548e-12\n",
       "15928   ID_5855  2.504802e-06\n",
       "15929  ID_13889  8.776379e-04\n",
       "\n",
       "[15930 rows x 2 columns]"
      ]
     },
     "execution_count": 42,
     "metadata": {},
     "output_type": "execute_result"
    }
   ],
   "source": [
    "submission"
   ]
  },
  {
   "cell_type": "code",
   "execution_count": 43,
   "id": "706896bc-86e6-4716-8913-a8649a460a9f",
   "metadata": {},
   "outputs": [],
   "source": [
    "submission.to_csv('Rn1.csv',index=False)"
   ]
  },
  {
   "cell_type": "markdown",
   "id": "6dcfe435-fde1-4668-8016-3b9249393205",
   "metadata": {},
   "source": [
    "# Modele RESEAUX DE NEURONES 2"
   ]
  },
  {
   "cell_type": "code",
   "execution_count": 145,
   "id": "52dc4d45-f038-4d5d-9e34-1c48fb65be0e",
   "metadata": {},
   "outputs": [],
   "source": [
    "import pandas as pd\n",
    "from sklearn.model_selection import train_test_split\n",
    "from sklearn.preprocessing import StandardScaler\n",
    "from keras.models import Sequential\n",
    "from keras.layers import Dense "
   ]
  },
  {
   "cell_type": "code",
   "execution_count": 146,
   "id": "64b845a0-5818-4031-8156-64bb9e181012",
   "metadata": {},
   "outputs": [
    {
     "name": "stdout",
     "output_type": "stream",
     "text": [
      "Epoch 1/10\n",
      "598/598 [==============================] - 3s 3ms/step - loss: 0.2606 - accuracy: 0.9153\n",
      "Epoch 2/10\n",
      "598/598 [==============================] - 2s 4ms/step - loss: 0.2253 - accuracy: 0.9211\n",
      "Epoch 3/10\n",
      "598/598 [==============================] - 2s 4ms/step - loss: 0.2166 - accuracy: 0.9223\n",
      "Epoch 4/10\n",
      "598/598 [==============================] - 2s 3ms/step - loss: 0.2102 - accuracy: 0.9259\n",
      "Epoch 5/10\n",
      "598/598 [==============================] - 2s 3ms/step - loss: 0.2024 - accuracy: 0.9263\n",
      "Epoch 6/10\n",
      "598/598 [==============================] - 2s 3ms/step - loss: 0.1959 - accuracy: 0.9288\n",
      "Epoch 7/10\n",
      "598/598 [==============================] - 2s 3ms/step - loss: 0.1880 - accuracy: 0.9310\n",
      "Epoch 8/10\n",
      "598/598 [==============================] - 2s 3ms/step - loss: 0.1800 - accuracy: 0.9331\n",
      "Epoch 9/10\n",
      "598/598 [==============================] - 2s 3ms/step - loss: 0.1727 - accuracy: 0.9341\n",
      "Epoch 10/10\n",
      "598/598 [==============================] - 2s 4ms/step - loss: 0.1652 - accuracy: 0.9370\n"
     ]
    },
    {
     "data": {
      "text/plain": [
       "<keras.callbacks.History at 0x17c800bc940>"
      ]
     },
     "execution_count": 146,
     "metadata": {},
     "output_type": "execute_result"
    }
   ],
   "source": [
    "import numpy as np\n",
    "from scipy.sparse import csr_matrix\n",
    "\n",
    "# Convertir les tenseurs creux en tenseurs denses\n",
    "X_train_dense = np.array(X_train.todense())\n",
    "y_train_dense = np.array(y_train)\n",
    "\n",
    "# Définir le modèle\n",
    "model = Sequential()\n",
    "model.add(Dense(64, input_dim=X_train_dense.shape[1], activation='relu'))\n",
    "model.add(Dense(32, activation='relu'))\n",
    "model.add(Dense(1, activation='sigmoid'))\n",
    "\n",
    "# Compiler le modèle\n",
    "model.compile(loss='binary_crossentropy', optimizer='adam', metrics=['accuracy'])\n",
    "\n",
    "# Entraîner le modèle\n",
    "model.fit(X_train_dense, y_train_dense, epochs=10, batch_size=32)"
   ]
  },
  {
   "cell_type": "markdown",
   "id": "788b3632-c417-4c97-a6c6-05062b2072e3",
   "metadata": {},
   "source": [
    "### Commentaire:"
   ]
  },
  {
   "cell_type": "markdown",
   "id": "0fb04c05-f677-4e99-bdf9-d1efc4a19bc2",
   "metadata": {},
   "source": [
    "ce  modèle est un modele de réseau de neurones est ensuite défini à l'aide de la classe Sequential de Keras, qui permet de définir des modèles de réseaux de neurones en empilant des couches les unes sur les autres. Le modèle est constitué de trois couches denses. La première couche est une couche dense de 64 neurones avec une fonction d'activation ReLU. La deuxième couche est une couche dense de 32 neurones avec la même fonction d'activation. Enfin, la troisième couche est une couche dense de sortie de 1 neurone avec une fonction d'activation sigmoid.\n",
    "\n",
    "L'entraînement du modèle est effectué avec la méthode fit() en fournissant les données d'entraînement X_train_dense et y_train_dense, le nombre d'epochs et la taille de batch. Le modèle est mis à jour après chaque lot de 32 exemples."
   ]
  },
  {
   "cell_type": "code",
   "execution_count": 115,
   "id": "08dad268-791a-49cc-92ca-cdf3af903575",
   "metadata": {},
   "outputs": [
    {
     "name": "stdout",
     "output_type": "stream",
     "text": [
      "150/150 [==============================] - 0s 2ms/step\n"
     ]
    }
   ],
   "source": [
    "## prediction du X_test\n",
    "y_pred3 = model.predict(X_test)"
   ]
  },
  {
   "cell_type": "code",
   "execution_count": 116,
   "id": "3c29a9d1-257e-4e0c-a7a0-7ad0f2ca1e13",
   "metadata": {},
   "outputs": [
    {
     "data": {
      "text/plain": [
       "array([[0.8721877 ],\n",
       "       [0.93152237],\n",
       "       [0.8469514 ],\n",
       "       ...,\n",
       "       [0.99930143],\n",
       "       [0.9971643 ],\n",
       "       [0.9245925 ]], dtype=float32)"
      ]
     },
     "execution_count": 116,
     "metadata": {},
     "output_type": "execute_result"
    }
   ],
   "source": [
    "y_pred3"
   ]
  },
  {
   "cell_type": "code",
   "execution_count": 118,
   "id": "06cae6c0-55fe-4414-9327-f611bc18d89c",
   "metadata": {},
   "outputs": [],
   "source": [
    "# Convertir les prédictions en étiquettes de classe (0 ou 1)\n",
    "y_pred_class = (y_pred3 > 0.5).astype(int)"
   ]
  },
  {
   "cell_type": "code",
   "execution_count": 119,
   "id": "4b736e6d-438e-4f48-817c-0e5aaa743dc7",
   "metadata": {},
   "outputs": [
    {
     "data": {
      "text/plain": [
       "array([[1],\n",
       "       [1],\n",
       "       [1],\n",
       "       ...,\n",
       "       [1],\n",
       "       [1],\n",
       "       [1]])"
      ]
     },
     "execution_count": 119,
     "metadata": {},
     "output_type": "execute_result"
    }
   ],
   "source": [
    "y_pred_class"
   ]
  },
  {
   "cell_type": "markdown",
   "id": "e943c541-5537-4da3-ae35-52a6cfd4d40c",
   "metadata": {},
   "source": [
    "#### Prediction du dataset submission_template"
   ]
  },
  {
   "cell_type": "code",
   "execution_count": 147,
   "id": "c6cde346-974a-4b45-8042-89edd7bd55a5",
   "metadata": {},
   "outputs": [],
   "source": [
    "new2=new.drop('Nom',axis=1)"
   ]
  },
  {
   "cell_type": "code",
   "execution_count": 148,
   "id": "0392d01e-e18d-4c44-82c5-74927a47ea94",
   "metadata": {},
   "outputs": [],
   "source": [
    "##pretraitement du new2\n",
    "X_test3 = preprocessor.transform(new2)"
   ]
  },
  {
   "cell_type": "code",
   "execution_count": 127,
   "id": "09e049bf-fdab-4a35-a159-0053e6ebc487",
   "metadata": {},
   "outputs": [],
   "source": [
    "#X_test_dense = np.array(X_test3.todense())"
   ]
  },
  {
   "cell_type": "code",
   "execution_count": 149,
   "id": "c459f40b-3954-47b7-95a8-d5a54621308c",
   "metadata": {},
   "outputs": [
    {
     "name": "stdout",
     "output_type": "stream",
     "text": [
      "498/498 [==============================] - 1s 2ms/step\n"
     ]
    }
   ],
   "source": [
    "#prediction\n",
    "y_pred4=model.predict(X_test3)"
   ]
  },
  {
   "cell_type": "code",
   "execution_count": 151,
   "id": "6135388b-8a1d-4341-80ea-485b7e00dfe8",
   "metadata": {},
   "outputs": [
    {
     "data": {
      "text/plain": [
       "array([[0.99997777],\n",
       "       [0.9997787 ],\n",
       "       [0.9997787 ],\n",
       "       ...,\n",
       "       [0.99883586],\n",
       "       [0.94359463],\n",
       "       [0.99519926]], dtype=float32)"
      ]
     },
     "execution_count": 151,
     "metadata": {},
     "output_type": "execute_result"
    }
   ],
   "source": [
    "y_pred4"
   ]
  },
  {
   "cell_type": "code",
   "execution_count": 152,
   "id": "e0d93d12-d9fe-4eb0-9d09-140b11936d15",
   "metadata": {},
   "outputs": [],
   "source": [
    "# Convertir les prédictions en étiquettes de classe (0 ou 1)\n",
    "y_pred4 = (y_pred4 > 0.5).astype(int)"
   ]
  },
  {
   "cell_type": "code",
   "execution_count": 153,
   "id": "e515f94e-127f-408f-b7a4-aa652952f6dc",
   "metadata": {},
   "outputs": [
    {
     "data": {
      "text/plain": [
       "array([[1],\n",
       "       [1],\n",
       "       [1],\n",
       "       ...,\n",
       "       [1],\n",
       "       [1],\n",
       "       [1]])"
      ]
     },
     "execution_count": 153,
     "metadata": {},
     "output_type": "execute_result"
    }
   ],
   "source": [
    "y_pred4"
   ]
  },
  {
   "cell_type": "code",
   "execution_count": 160,
   "id": "ec979bb8-1b84-44de-b695-01dcd115f9ad",
   "metadata": {},
   "outputs": [
    {
     "data": {
      "text/plain": [
       "1    15296\n",
       "0      634\n",
       "dtype: int64"
      ]
     },
     "execution_count": 160,
     "metadata": {},
     "output_type": "execute_result"
    }
   ],
   "source": [
    "## compter les admis et les ajournes\n",
    "g=pd.DataFrame(y_pred4)\n",
    "g.value_counts()"
   ]
  },
  {
   "cell_type": "code",
   "execution_count": 156,
   "id": "89ab9bdc-0cf0-46c2-a792-9601dfab8487",
   "metadata": {},
   "outputs": [
    {
     "data": {
      "text/plain": [
       "15930"
      ]
     },
     "execution_count": 156,
     "metadata": {},
     "output_type": "execute_result"
    }
   ],
   "source": [
    "pre=proba[:, 0]\n",
    "len(pre)"
   ]
  },
  {
   "cell_type": "code",
   "execution_count": 161,
   "id": "82251435-0f3f-49b9-8207-8594df8110d1",
   "metadata": {},
   "outputs": [],
   "source": [
    "new2['predicted']=pre"
   ]
  },
  {
   "cell_type": "code",
   "execution_count": 162,
   "id": "ee381e6a-74db-41a5-ac59-a6f5e5e9e549",
   "metadata": {},
   "outputs": [
    {
     "data": {
      "text/html": [
       "<div>\n",
       "<style scoped>\n",
       "    .dataframe tbody tr th:only-of-type {\n",
       "        vertical-align: middle;\n",
       "    }\n",
       "\n",
       "    .dataframe tbody tr th {\n",
       "        vertical-align: top;\n",
       "    }\n",
       "\n",
       "    .dataframe thead th {\n",
       "        text-align: right;\n",
       "    }\n",
       "</style>\n",
       "<table border=\"1\" class=\"dataframe\">\n",
       "  <thead>\n",
       "    <tr style=\"text-align: right;\">\n",
       "      <th></th>\n",
       "      <th>ID</th>\n",
       "      <th>Serie,x</th>\n",
       "      <th>GroupeAnonymat</th>\n",
       "      <th>LieuNaissance</th>\n",
       "      <th>Centre</th>\n",
       "      <th>Etablissement</th>\n",
       "      <th>Willaya</th>\n",
       "      <th>moughataa</th>\n",
       "      <th>age</th>\n",
       "      <th>predicted</th>\n",
       "    </tr>\n",
       "  </thead>\n",
       "  <tbody>\n",
       "    <tr>\n",
       "      <th>0</th>\n",
       "      <td>ID_15</td>\n",
       "      <td>SN</td>\n",
       "      <td>SN09</td>\n",
       "      <td>Vassala</td>\n",
       "      <td>Lycée Vassala</td>\n",
       "      <td>Lycée Vassala</td>\n",
       "      <td>Hod Charghy</td>\n",
       "      <td>BASSEKNOU</td>\n",
       "      <td>22</td>\n",
       "      <td>6.465927e-09</td>\n",
       "    </tr>\n",
       "    <tr>\n",
       "      <th>1</th>\n",
       "      <td>ID_22</td>\n",
       "      <td>SN</td>\n",
       "      <td>SN09</td>\n",
       "      <td>Vassala</td>\n",
       "      <td>Lycée Vassala</td>\n",
       "      <td>Lycée Vassala</td>\n",
       "      <td>Hod Charghy</td>\n",
       "      <td>BASSEKNOU</td>\n",
       "      <td>18</td>\n",
       "      <td>6.434701e-05</td>\n",
       "    </tr>\n",
       "    <tr>\n",
       "      <th>2</th>\n",
       "      <td>ID_23</td>\n",
       "      <td>SN</td>\n",
       "      <td>SN09</td>\n",
       "      <td>Vassala</td>\n",
       "      <td>Lycée Vassala</td>\n",
       "      <td>Lycée Vassala</td>\n",
       "      <td>Hod Charghy</td>\n",
       "      <td>BASSEKNOU</td>\n",
       "      <td>18</td>\n",
       "      <td>6.434701e-05</td>\n",
       "    </tr>\n",
       "    <tr>\n",
       "      <th>3</th>\n",
       "      <td>ID_29</td>\n",
       "      <td>SN</td>\n",
       "      <td>SN09</td>\n",
       "      <td>Vassala</td>\n",
       "      <td>Lycée Vassala</td>\n",
       "      <td>Lycée Vassala</td>\n",
       "      <td>Hod Charghy</td>\n",
       "      <td>BASSEKNOU</td>\n",
       "      <td>21</td>\n",
       "      <td>6.322630e-08</td>\n",
       "    </tr>\n",
       "    <tr>\n",
       "      <th>4</th>\n",
       "      <td>ID_34</td>\n",
       "      <td>SN</td>\n",
       "      <td>SN09</td>\n",
       "      <td>Vassala</td>\n",
       "      <td>Lycée Vassala</td>\n",
       "      <td>Lycée Vassala</td>\n",
       "      <td>Hod Charghy</td>\n",
       "      <td>BASSEKNOU</td>\n",
       "      <td>21</td>\n",
       "      <td>6.322630e-08</td>\n",
       "    </tr>\n",
       "  </tbody>\n",
       "</table>\n",
       "</div>"
      ],
      "text/plain": [
       "      ID Serie,x GroupeAnonymat LieuNaissance         Centre  Etablissement  \\\n",
       "0  ID_15      SN           SN09       Vassala  Lycée Vassala  Lycée Vassala   \n",
       "1  ID_22      SN           SN09       Vassala  Lycée Vassala  Lycée Vassala   \n",
       "2  ID_23      SN           SN09       Vassala  Lycée Vassala  Lycée Vassala   \n",
       "3  ID_29      SN           SN09       Vassala  Lycée Vassala  Lycée Vassala   \n",
       "4  ID_34      SN           SN09       Vassala  Lycée Vassala  Lycée Vassala   \n",
       "\n",
       "       Willaya  moughataa  age     predicted  \n",
       "0  Hod Charghy  BASSEKNOU   22  6.465927e-09  \n",
       "1  Hod Charghy  BASSEKNOU   18  6.434701e-05  \n",
       "2  Hod Charghy  BASSEKNOU   18  6.434701e-05  \n",
       "3  Hod Charghy  BASSEKNOU   21  6.322630e-08  \n",
       "4  Hod Charghy  BASSEKNOU   21  6.322630e-08  "
      ]
     },
     "execution_count": 162,
     "metadata": {},
     "output_type": "execute_result"
    }
   ],
   "source": [
    "new2.head()"
   ]
  },
  {
   "cell_type": "code",
   "execution_count": 163,
   "id": "0c6e8ff4-4f5a-4177-b702-1c76f65fec03",
   "metadata": {},
   "outputs": [
    {
     "data": {
      "text/html": [
       "<div>\n",
       "<style scoped>\n",
       "    .dataframe tbody tr th:only-of-type {\n",
       "        vertical-align: middle;\n",
       "    }\n",
       "\n",
       "    .dataframe tbody tr th {\n",
       "        vertical-align: top;\n",
       "    }\n",
       "\n",
       "    .dataframe thead th {\n",
       "        text-align: right;\n",
       "    }\n",
       "</style>\n",
       "<table border=\"1\" class=\"dataframe\">\n",
       "  <thead>\n",
       "    <tr style=\"text-align: right;\">\n",
       "      <th></th>\n",
       "      <th>ID</th>\n",
       "      <th>predicted</th>\n",
       "    </tr>\n",
       "  </thead>\n",
       "  <tbody>\n",
       "    <tr>\n",
       "      <th>0</th>\n",
       "      <td>ID_15</td>\n",
       "      <td>6.465927e-09</td>\n",
       "    </tr>\n",
       "    <tr>\n",
       "      <th>1</th>\n",
       "      <td>ID_22</td>\n",
       "      <td>6.434701e-05</td>\n",
       "    </tr>\n",
       "    <tr>\n",
       "      <th>2</th>\n",
       "      <td>ID_23</td>\n",
       "      <td>6.434701e-05</td>\n",
       "    </tr>\n",
       "    <tr>\n",
       "      <th>3</th>\n",
       "      <td>ID_29</td>\n",
       "      <td>6.322630e-08</td>\n",
       "    </tr>\n",
       "    <tr>\n",
       "      <th>4</th>\n",
       "      <td>ID_34</td>\n",
       "      <td>6.322630e-08</td>\n",
       "    </tr>\n",
       "  </tbody>\n",
       "</table>\n",
       "</div>"
      ],
      "text/plain": [
       "      ID     predicted\n",
       "0  ID_15  6.465927e-09\n",
       "1  ID_22  6.434701e-05\n",
       "2  ID_23  6.434701e-05\n",
       "3  ID_29  6.322630e-08\n",
       "4  ID_34  6.322630e-08"
      ]
     },
     "execution_count": 163,
     "metadata": {},
     "output_type": "execute_result"
    }
   ],
   "source": [
    "submission2=new2[['ID','predicted']]\n",
    "submission2.head()"
   ]
  },
  {
   "cell_type": "code",
   "execution_count": 143,
   "id": "79aed6ac-5e5e-4b33-86f9-32d8696e3c63",
   "metadata": {},
   "outputs": [],
   "source": [
    "submission.to_csv('Rn2.csv',index=False)"
   ]
  },
  {
   "cell_type": "code",
   "execution_count": null,
   "id": "98e5dd39-3f61-4606-ade1-e140d77db3c4",
   "metadata": {},
   "outputs": [],
   "source": []
  }
 ],
 "metadata": {
  "kernelspec": {
   "display_name": "Python 3 (ipykernel)",
   "language": "python",
   "name": "python3"
  },
  "language_info": {
   "codemirror_mode": {
    "name": "ipython",
    "version": 3
   },
   "file_extension": ".py",
   "mimetype": "text/x-python",
   "name": "python",
   "nbconvert_exporter": "python",
   "pygments_lexer": "ipython3",
   "version": "3.9.13"
  }
 },
 "nbformat": 4,
 "nbformat_minor": 5
}

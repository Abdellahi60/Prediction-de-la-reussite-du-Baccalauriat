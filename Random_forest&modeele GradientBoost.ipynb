{
 "cells": [
  {
   "cell_type": "markdown",
   "id": "001f5a64-4a2b-4ef1-9b40-067826f58381",
   "metadata": {},
   "source": [
    "## Importataion"
   ]
  },
  {
   "cell_type": "code",
   "execution_count": 16,
   "id": "0245dae0-6b02-4c8d-8547-e75a417879f0",
   "metadata": {},
   "outputs": [],
   "source": [
    "import pandas as pd\n",
    "from sklearn.ensemble import GradientBoostingClassifier\n",
    "from sklearn.preprocessing import OneHotEncoder\n",
    "from sklearn.compose import make_column_transformer\n",
    "from sklearn.pipeline import make_pipeline\n",
    "import pandas as pd\n",
    "from sklearn.metrics import accuracy_score, precision_score, recall_score, f1_score\n",
    "from sklearn.preprocessing import StandardScaler, OneHotEncoder\n",
    "from sklearn.compose import ColumnTransformer\n",
    "from sklearn.model_selection import train_test_split"
   ]
  },
  {
   "cell_type": "markdown",
   "id": "2cc24cfd-2804-47be-a10a-7f43f0696146",
   "metadata": {},
   "source": [
    "## 1.modeele GradientBoost"
   ]
  },
  {
   "cell_type": "code",
   "execution_count": null,
   "id": "f52d80ae-5843-47e5-9d6f-a173475e6a94",
   "metadata": {},
   "outputs": [],
   "source": []
  },
  {
   "cell_type": "code",
   "execution_count": 65,
   "id": "598e4084-fc5b-4dc6-a45d-6ddd3abb4184",
   "metadata": {},
   "outputs": [
    {
     "data": {
      "text/html": [
       "<div>\n",
       "<style scoped>\n",
       "    .dataframe tbody tr th:only-of-type {\n",
       "        vertical-align: middle;\n",
       "    }\n",
       "\n",
       "    .dataframe tbody tr th {\n",
       "        vertical-align: top;\n",
       "    }\n",
       "\n",
       "    .dataframe thead th {\n",
       "        text-align: right;\n",
       "    }\n",
       "</style>\n",
       "<table border=\"1\" class=\"dataframe\">\n",
       "  <thead>\n",
       "    <tr style=\"text-align: right;\">\n",
       "      <th></th>\n",
       "      <th>Unnamed: 0</th>\n",
       "      <th>Serie,x</th>\n",
       "      <th>GroupeAnonymat</th>\n",
       "      <th>LieuNaissance</th>\n",
       "      <th>Centre</th>\n",
       "      <th>Etablissement</th>\n",
       "      <th>Decision</th>\n",
       "      <th>Willaya</th>\n",
       "      <th>moughataa</th>\n",
       "      <th>DateNaissance</th>\n",
       "    </tr>\n",
       "  </thead>\n",
       "  <tbody>\n",
       "    <tr>\n",
       "      <th>0</th>\n",
       "      <td>27634</td>\n",
       "      <td>SN</td>\n",
       "      <td>SN09</td>\n",
       "      <td>Bathet meit</td>\n",
       "      <td>Lycée Jedida</td>\n",
       "      <td>Lycée Jedida</td>\n",
       "      <td>Ajourné</td>\n",
       "      <td>Nouakchott 2 (Ouest)</td>\n",
       "      <td>KSAR</td>\n",
       "      <td>12 ديسمبر 1998</td>\n",
       "    </tr>\n",
       "    <tr>\n",
       "      <th>1</th>\n",
       "      <td>36311</td>\n",
       "      <td>LO</td>\n",
       "      <td>LO1</td>\n",
       "      <td>Beir Taouress</td>\n",
       "      <td>Lycée Arafat 2 (A)</td>\n",
       "      <td>Lycée Arafat 2</td>\n",
       "      <td>Ajourné</td>\n",
       "      <td>Nouakchott 3 (Sud)</td>\n",
       "      <td>ARAFAT</td>\n",
       "      <td>26 ديسمبر 1991</td>\n",
       "    </tr>\n",
       "    <tr>\n",
       "      <th>2</th>\n",
       "      <td>21059</td>\n",
       "      <td>LM</td>\n",
       "      <td>LM3</td>\n",
       "      <td>Akjoujt</td>\n",
       "      <td>Lycée Akjoujt</td>\n",
       "      <td>Lycée Akjoujt</td>\n",
       "      <td>Ajourné</td>\n",
       "      <td>Inchiri</td>\n",
       "      <td>AKJOUJT</td>\n",
       "      <td>8 مايو 1995</td>\n",
       "    </tr>\n",
       "    <tr>\n",
       "      <th>3</th>\n",
       "      <td>24532</td>\n",
       "      <td>SN</td>\n",
       "      <td>SN06</td>\n",
       "      <td>Chelkhet Tiyab</td>\n",
       "      <td>Lycée Toujounine 1</td>\n",
       "      <td>Lycée Toujounine 1</td>\n",
       "      <td>Ajourné</td>\n",
       "      <td>Nouakchott 1 (Nord)</td>\n",
       "      <td>TOUJOUNINE</td>\n",
       "      <td>24 avr. 1999</td>\n",
       "    </tr>\n",
       "    <tr>\n",
       "      <th>4</th>\n",
       "      <td>17861</td>\n",
       "      <td>SN</td>\n",
       "      <td>SN03</td>\n",
       "      <td>Aere M'Bar</td>\n",
       "      <td>Lycée Nouadhibou 2</td>\n",
       "      <td>Lycée Wava Nouadhibou</td>\n",
       "      <td>Ajourné</td>\n",
       "      <td>Dakhlet NDB</td>\n",
       "      <td>NOUADHIBOU</td>\n",
       "      <td>10 mai 2001</td>\n",
       "    </tr>\n",
       "  </tbody>\n",
       "</table>\n",
       "</div>"
      ],
      "text/plain": [
       "   Unnamed: 0 Serie,x GroupeAnonymat   LieuNaissance              Centre  \\\n",
       "0       27634      SN           SN09     Bathet meit        Lycée Jedida   \n",
       "1       36311      LO            LO1   Beir Taouress  Lycée Arafat 2 (A)   \n",
       "2       21059      LM            LM3         Akjoujt       Lycée Akjoujt   \n",
       "3       24532      SN           SN06  Chelkhet Tiyab  Lycée Toujounine 1   \n",
       "4       17861      SN           SN03      Aere M'Bar  Lycée Nouadhibou 2   \n",
       "\n",
       "           Etablissement Decision               Willaya   moughataa  \\\n",
       "0           Lycée Jedida  Ajourné  Nouakchott 2 (Ouest)        KSAR   \n",
       "1         Lycée Arafat 2  Ajourné    Nouakchott 3 (Sud)      ARAFAT   \n",
       "2          Lycée Akjoujt  Ajourné               Inchiri     AKJOUJT   \n",
       "3     Lycée Toujounine 1  Ajourné   Nouakchott 1 (Nord)  TOUJOUNINE   \n",
       "4  Lycée Wava Nouadhibou  Ajourné           Dakhlet NDB  NOUADHIBOU   \n",
       "\n",
       "    DateNaissance  \n",
       "0  12 ديسمبر 1998  \n",
       "1  26 ديسمبر 1991  \n",
       "2     8 مايو 1995  \n",
       "3    24 avr. 1999  \n",
       "4     10 mai 2001  "
      ]
     },
     "execution_count": 65,
     "metadata": {},
     "output_type": "execute_result"
    }
   ],
   "source": [
    "data=pd.read_csv('train_set.csv')\n",
    "data=data.drop(['moyeneGeneral','Note1', 'Note2', 'Note3','Note4', 'Note5', 'Note6', 'Note7', 'Note8','Nom','ID'],axis=1)\n",
    "data.head()"
   ]
  },
  {
   "cell_type": "markdown",
   "id": "6e2e9cb5-4661-4794-9f6d-6ccb34ac5fd8",
   "metadata": {},
   "source": [
    "## preprocessing"
   ]
  },
  {
   "cell_type": "code",
   "execution_count": 66,
   "id": "289f98ed-7e8f-4d55-973e-af4dace8b266",
   "metadata": {},
   "outputs": [],
   "source": [
    "### creer une colonne pour connaitre l'age\n",
    "data['age'] = data['DateNaissance'].apply(  \n",
    "    lambda x: int(x.split(\"-\")[2] if '-' in x else int(x.split(\" \")[2]) )\n",
    "    ).apply(lambda x : 2021 - x if x > 1900  else ( 121 - x if x > 21 else 21 - x))"
   ]
  },
  {
   "cell_type": "code",
   "execution_count": 67,
   "id": "cf41ce6e-0287-4eac-9ae6-16b3154fe347",
   "metadata": {},
   "outputs": [
    {
     "data": {
      "text/html": [
       "<div>\n",
       "<style scoped>\n",
       "    .dataframe tbody tr th:only-of-type {\n",
       "        vertical-align: middle;\n",
       "    }\n",
       "\n",
       "    .dataframe tbody tr th {\n",
       "        vertical-align: top;\n",
       "    }\n",
       "\n",
       "    .dataframe thead th {\n",
       "        text-align: right;\n",
       "    }\n",
       "</style>\n",
       "<table border=\"1\" class=\"dataframe\">\n",
       "  <thead>\n",
       "    <tr style=\"text-align: right;\">\n",
       "      <th></th>\n",
       "      <th>Serie,x</th>\n",
       "      <th>GroupeAnonymat</th>\n",
       "      <th>LieuNaissance</th>\n",
       "      <th>Centre</th>\n",
       "      <th>Etablissement</th>\n",
       "      <th>Decision</th>\n",
       "      <th>Willaya</th>\n",
       "      <th>moughataa</th>\n",
       "      <th>DateNaissance</th>\n",
       "      <th>age</th>\n",
       "    </tr>\n",
       "  </thead>\n",
       "  <tbody>\n",
       "    <tr>\n",
       "      <th>0</th>\n",
       "      <td>SN</td>\n",
       "      <td>SN09</td>\n",
       "      <td>Bathet meit</td>\n",
       "      <td>Lycée Jedida</td>\n",
       "      <td>Lycée Jedida</td>\n",
       "      <td>1</td>\n",
       "      <td>Nouakchott 2 (Ouest)</td>\n",
       "      <td>KSAR</td>\n",
       "      <td>12 ديسمبر 1998</td>\n",
       "      <td>23</td>\n",
       "    </tr>\n",
       "    <tr>\n",
       "      <th>1</th>\n",
       "      <td>LO</td>\n",
       "      <td>LO1</td>\n",
       "      <td>Beir Taouress</td>\n",
       "      <td>Lycée Arafat 2 (A)</td>\n",
       "      <td>Lycée Arafat 2</td>\n",
       "      <td>1</td>\n",
       "      <td>Nouakchott 3 (Sud)</td>\n",
       "      <td>ARAFAT</td>\n",
       "      <td>26 ديسمبر 1991</td>\n",
       "      <td>30</td>\n",
       "    </tr>\n",
       "    <tr>\n",
       "      <th>2</th>\n",
       "      <td>LM</td>\n",
       "      <td>LM3</td>\n",
       "      <td>Akjoujt</td>\n",
       "      <td>Lycée Akjoujt</td>\n",
       "      <td>Lycée Akjoujt</td>\n",
       "      <td>1</td>\n",
       "      <td>Inchiri</td>\n",
       "      <td>AKJOUJT</td>\n",
       "      <td>8 مايو 1995</td>\n",
       "      <td>26</td>\n",
       "    </tr>\n",
       "    <tr>\n",
       "      <th>3</th>\n",
       "      <td>SN</td>\n",
       "      <td>SN06</td>\n",
       "      <td>Chelkhet Tiyab</td>\n",
       "      <td>Lycée Toujounine 1</td>\n",
       "      <td>Lycée Toujounine 1</td>\n",
       "      <td>1</td>\n",
       "      <td>Nouakchott 1 (Nord)</td>\n",
       "      <td>TOUJOUNINE</td>\n",
       "      <td>24 avr. 1999</td>\n",
       "      <td>22</td>\n",
       "    </tr>\n",
       "    <tr>\n",
       "      <th>4</th>\n",
       "      <td>SN</td>\n",
       "      <td>SN03</td>\n",
       "      <td>Aere M'Bar</td>\n",
       "      <td>Lycée Nouadhibou 2</td>\n",
       "      <td>Lycée Wava Nouadhibou</td>\n",
       "      <td>1</td>\n",
       "      <td>Dakhlet NDB</td>\n",
       "      <td>NOUADHIBOU</td>\n",
       "      <td>10 mai 2001</td>\n",
       "      <td>20</td>\n",
       "    </tr>\n",
       "  </tbody>\n",
       "</table>\n",
       "</div>"
      ],
      "text/plain": [
       "  Serie,x GroupeAnonymat   LieuNaissance              Centre  \\\n",
       "0      SN           SN09     Bathet meit        Lycée Jedida   \n",
       "1      LO            LO1   Beir Taouress  Lycée Arafat 2 (A)   \n",
       "2      LM            LM3         Akjoujt       Lycée Akjoujt   \n",
       "3      SN           SN06  Chelkhet Tiyab  Lycée Toujounine 1   \n",
       "4      SN           SN03      Aere M'Bar  Lycée Nouadhibou 2   \n",
       "\n",
       "           Etablissement  Decision               Willaya   moughataa  \\\n",
       "0           Lycée Jedida         1  Nouakchott 2 (Ouest)        KSAR   \n",
       "1         Lycée Arafat 2         1    Nouakchott 3 (Sud)      ARAFAT   \n",
       "2          Lycée Akjoujt         1               Inchiri     AKJOUJT   \n",
       "3     Lycée Toujounine 1         1   Nouakchott 1 (Nord)  TOUJOUNINE   \n",
       "4  Lycée Wava Nouadhibou         1           Dakhlet NDB  NOUADHIBOU   \n",
       "\n",
       "    DateNaissance  age  \n",
       "0  12 ديسمبر 1998   23  \n",
       "1  26 ديسمبر 1991   30  \n",
       "2     8 مايو 1995   26  \n",
       "3    24 avr. 1999   22  \n",
       "4     10 mai 2001   20  "
      ]
     },
     "execution_count": 67,
     "metadata": {},
     "output_type": "execute_result"
    }
   ],
   "source": [
    "data=data.drop('Unnamed: 0',axis=1)\n",
    "# Transformer les observations\n",
    "data['Decision'] = data['Decision'].replace(['Ajourné', 'Sessionnaire', 'Abscent', 'Examen annulé à cause du Téléphone', 'Examen annulé à cause du comportement'], 'Ajourné')\n",
    "### encoder la variable target \n",
    "data['Decision']=pd.get_dummies(data['Decision'],drop_first=True)\n",
    "data.head()"
   ]
  },
  {
   "cell_type": "code",
   "execution_count": 68,
   "id": "74707067-1b3c-40a6-bc3e-ee47962dbba1",
   "metadata": {},
   "outputs": [],
   "source": [
    "# Séparer les variables indépendantes et la variable dépendante\n",
    "X = data.drop('Decision',axis=1)\n",
    "y = data['Decision']"
   ]
  },
  {
   "cell_type": "code",
   "execution_count": 70,
   "id": "58b34a5e-71e0-4fab-a42e-8f1b5255e3a8",
   "metadata": {},
   "outputs": [],
   "source": [
    "# Définir les colonnes catégorielles et numériques\n",
    "cat_cols = ['Serie,x', 'GroupeAnonymat', 'LieuNaissance', 'Centre', 'Etablissement', 'Willaya', 'moughataa']\n",
    "num_cols = ['age']"
   ]
  },
  {
   "cell_type": "markdown",
   "id": "6be11660-73f6-4764-b71c-67bb4cf35d3c",
   "metadata": {},
   "source": [
    "Commentaire : ces variables definie sont les variables consideree commme des features (variables expliquatives)"
   ]
  },
  {
   "cell_type": "code",
   "execution_count": null,
   "id": "10ecd872-2a51-4262-96d9-c244e15e840e",
   "metadata": {},
   "outputs": [],
   "source": []
  },
  {
   "cell_type": "markdown",
   "id": "7b9d9c4c-ac4c-46cb-8aac-e9d9c59a4281",
   "metadata": {},
   "source": [
    "### Implementation du modele"
   ]
  },
  {
   "cell_type": "code",
   "execution_count": 72,
   "id": "5e5e997e-e7f4-49c7-b4c1-aef8afa54c5b",
   "metadata": {},
   "outputs": [],
   "source": [
    "from sklearn.compose import make_column_transformer\n",
    "from sklearn.pipeline import make_pipeline\n",
    "from sklearn.ensemble import GradientBoostingClassifier\n",
    "from sklearn.preprocessing import StandardScaler, OneHotEncoder\n",
    "from sklearn.model_selection import train_test_split\n",
    "import pandas as pd\n",
    "\n",
    "\n",
    "\n",
    "# Séparer les variables indépendantes et la variable dépendante\n",
    "X = data.drop('Decision',axis=1)\n",
    "y = data['Decision']\n",
    "\n",
    "# Diviser les données en données d'entraînement et de test\n",
    "X_train, X_test, y_train, y_test = train_test_split(X, y, test_size=0.2, random_state=42,stratify=y)\n",
    "\n",
    "# Définir les colonnes catégorielles et numériques\n",
    "cat_cols = ['Serie,x', 'GroupeAnonymat', 'LieuNaissance', 'Centre', 'Etablissement', 'Willaya', 'moughataa']\n",
    "num_cols = ['age']\n",
    "\n",
    "# Transformer les données en objets DataFrame\n",
    "X_train = pd.DataFrame(X_train, columns=cat_cols+num_cols)\n",
    "X_test = pd.DataFrame(X_test, columns=cat_cols+num_cols)\n",
    "\n",
    "# Créer le préprocesseur des données\n",
    "### encodage des variables categoreils et nornalisation des variables numeriques \n",
    "preprocessor = make_column_transformer(\n",
    "    (StandardScaler(), num_cols),\n",
    "    (OneHotEncoder(handle_unknown='ignore'), cat_cols)\n",
    ")\n",
    "\n",
    "# Créer le pipeline complet avec le préprocesseur et le modèle\n",
    "model = make_pipeline(\n",
    "    preprocessor,\n",
    "    GradientBoostingClassifier()\n",
    ")\n",
    "\n",
    "# Entraîner le modèle sur les données d'apprentissage\n",
    "model.fit(X_train, y_train)\n",
    "\n",
    "# Faire des prédictions sur les données de test\n",
    "y_pred = model.predict(X_test)\n"
   ]
  },
  {
   "cell_type": "code",
   "execution_count": 73,
   "id": "028ae8cf-0f18-42eb-bc5e-42fd6976d44b",
   "metadata": {},
   "outputs": [
    {
     "data": {
      "text/plain": [
       "array([1, 1, 1, ..., 1, 1, 1], dtype=uint8)"
      ]
     },
     "execution_count": 73,
     "metadata": {},
     "output_type": "execute_result"
    }
   ],
   "source": [
    "y_pred"
   ]
  },
  {
   "cell_type": "code",
   "execution_count": null,
   "id": "45d29e9e-c4fe-4cea-ac17-2483d3de63d5",
   "metadata": {},
   "outputs": [],
   "source": []
  },
  {
   "cell_type": "code",
   "execution_count": 74,
   "id": "d4e4c869-d88e-4c0b-81c4-01f2260bb924",
   "metadata": {},
   "outputs": [
    {
     "name": "stdout",
     "output_type": "stream",
     "text": [
      "Accuracy :  0.9213224523958987\n",
      "Precision :  0.9224283305227656\n",
      "Recall :  0.9981751824817519\n",
      "F1-score :  0.9588080631025417\n",
      "AUC-ROC :  0.7741900928578027\n"
     ]
    }
   ],
   "source": [
    "from sklearn.metrics import accuracy_score, precision_score, recall_score, f1_score, roc_auc_score\n",
    "\n",
    "# Calculer les prédictions sur les données de test\n",
    "y_pred = model.predict(X_test)\n",
    "\n",
    "# Calculer les différentes métriques d'évaluation\n",
    "accuracy = accuracy_score(y_test, y_pred)\n",
    "precision = precision_score(y_test, y_pred)\n",
    "recall = recall_score(y_test, y_pred)\n",
    "f1 = f1_score(y_test, y_pred)\n",
    "auc_roc = roc_auc_score(y_test, model.predict_proba(X_test)[:, 1])\n",
    "\n",
    "# Afficher les résultats\n",
    "print(\"Accuracy : \", accuracy)\n",
    "print(\"Precision : \", precision)\n",
    "print(\"Recall : \", recall)\n",
    "print(\"F1-score : \", f1)\n",
    "print(\"AUC-ROC : \", auc_roc)"
   ]
  },
  {
   "cell_type": "markdown",
   "id": "9e89b93b-a6f2-42ca-826f-5e02bfe15518",
   "metadata": {},
   "source": [
    "## prediction applique sur la dataset submission_template"
   ]
  },
  {
   "cell_type": "markdown",
   "id": "f57b9db2-a1b6-45a5-88bc-8482359ae32e",
   "metadata": {},
   "source": [
    "j'ai cree dans mon pemiere modele (nayev_bayesienne) un dataframe issue de la concatenation des dataframes train et test puis j'ai selectionne les ID qui sont similaires avec les ID de submission_template puis on l'a enregistre comme csv avec nom 'new_data.csv'"
   ]
  },
  {
   "cell_type": "code",
   "execution_count": 43,
   "id": "19476f5f-d2f2-4510-826a-262b0e0b1192",
   "metadata": {},
   "outputs": [
    {
     "name": "stdout",
     "output_type": "stream",
     "text": [
      "[1 1 1 ... 1 1 1]\n"
     ]
    }
   ],
   "source": [
    "# Charger les données dans un DataFrame pandas\n",
    "### Importation\n",
    "new=pd.read_csv('new_data.csv')\n",
    "new=new.drop('Unnamed: 0',axis=1)\n",
    "new=new.drop('prediction',axis=1)\n",
    "new1=new.drop('Nom',axis=1)\n",
    "\n",
    "\n",
    "# Prétraiter les données\n",
    "#new_data_processed = preprocessor.transform(new1)\n",
    "X_test2 = pd.DataFrame(new1, columns=cat_cols+num_cols)\n",
    "\n",
    "# Faire des prédictions sur les données prétraitées\n",
    "y_pred2 = model.predict(X_test2)\n",
    "\n",
    "# Afficher les prédictions\n",
    "print(y_pred2)"
   ]
  },
  {
   "cell_type": "code",
   "execution_count": 44,
   "id": "c2494117-ede3-4c37-acc2-ba3bfeceecbd",
   "metadata": {},
   "outputs": [
    {
     "data": {
      "text/plain": [
       "1    15805\n",
       "0      125\n",
       "dtype: int64"
      ]
     },
     "execution_count": 44,
     "metadata": {},
     "output_type": "execute_result"
    }
   ],
   "source": [
    "g=pd.DataFrame(y_pred2)\n",
    "g.value_counts()"
   ]
  },
  {
   "cell_type": "code",
   "execution_count": 45,
   "id": "e9476fc2-f0db-4c4f-b055-ac9cb7769bd6",
   "metadata": {},
   "outputs": [],
   "source": [
    "##calculer la probabilite d'admission\n",
    "proba=model.predict_proba(X_test2)"
   ]
  },
  {
   "cell_type": "code",
   "execution_count": 46,
   "id": "f92d28e4-cfdf-4cae-b427-565df31cc343",
   "metadata": {},
   "outputs": [
    {
     "data": {
      "text/plain": [
       "15930"
      ]
     },
     "execution_count": 46,
     "metadata": {},
     "output_type": "execute_result"
    }
   ],
   "source": [
    "### selectionner la probabilite d'admission\n",
    "pre=proba[:, 0]\n",
    "len(pre)"
   ]
  },
  {
   "cell_type": "code",
   "execution_count": 47,
   "id": "dcc812da-c435-4dec-8e11-e3a4cb8d8657",
   "metadata": {},
   "outputs": [],
   "source": [
    "new1['predicted2']=pre"
   ]
  },
  {
   "cell_type": "code",
   "execution_count": 48,
   "id": "184baf8d-330b-4665-87b5-ac6f34fc3c02",
   "metadata": {},
   "outputs": [
    {
     "data": {
      "text/html": [
       "<div>\n",
       "<style scoped>\n",
       "    .dataframe tbody tr th:only-of-type {\n",
       "        vertical-align: middle;\n",
       "    }\n",
       "\n",
       "    .dataframe tbody tr th {\n",
       "        vertical-align: top;\n",
       "    }\n",
       "\n",
       "    .dataframe thead th {\n",
       "        text-align: right;\n",
       "    }\n",
       "</style>\n",
       "<table border=\"1\" class=\"dataframe\">\n",
       "  <thead>\n",
       "    <tr style=\"text-align: right;\">\n",
       "      <th></th>\n",
       "      <th>ID</th>\n",
       "      <th>predicted2</th>\n",
       "    </tr>\n",
       "  </thead>\n",
       "  <tbody>\n",
       "    <tr>\n",
       "      <th>0</th>\n",
       "      <td>ID_15</td>\n",
       "      <td>0.037835</td>\n",
       "    </tr>\n",
       "    <tr>\n",
       "      <th>1</th>\n",
       "      <td>ID_22</td>\n",
       "      <td>0.107953</td>\n",
       "    </tr>\n",
       "    <tr>\n",
       "      <th>2</th>\n",
       "      <td>ID_23</td>\n",
       "      <td>0.107953</td>\n",
       "    </tr>\n",
       "    <tr>\n",
       "      <th>3</th>\n",
       "      <td>ID_29</td>\n",
       "      <td>0.041576</td>\n",
       "    </tr>\n",
       "    <tr>\n",
       "      <th>4</th>\n",
       "      <td>ID_34</td>\n",
       "      <td>0.041576</td>\n",
       "    </tr>\n",
       "    <tr>\n",
       "      <th>...</th>\n",
       "      <td>...</td>\n",
       "      <td>...</td>\n",
       "    </tr>\n",
       "    <tr>\n",
       "      <th>15925</th>\n",
       "      <td>ID_13569</td>\n",
       "      <td>0.036362</td>\n",
       "    </tr>\n",
       "    <tr>\n",
       "      <th>15926</th>\n",
       "      <td>ID_31670</td>\n",
       "      <td>0.026363</td>\n",
       "    </tr>\n",
       "    <tr>\n",
       "      <th>15927</th>\n",
       "      <td>ID_31759</td>\n",
       "      <td>0.042481</td>\n",
       "    </tr>\n",
       "    <tr>\n",
       "      <th>15928</th>\n",
       "      <td>ID_5855</td>\n",
       "      <td>0.104046</td>\n",
       "    </tr>\n",
       "    <tr>\n",
       "      <th>15929</th>\n",
       "      <td>ID_13889</td>\n",
       "      <td>0.026328</td>\n",
       "    </tr>\n",
       "  </tbody>\n",
       "</table>\n",
       "<p>15930 rows × 2 columns</p>\n",
       "</div>"
      ],
      "text/plain": [
       "             ID  predicted2\n",
       "0         ID_15    0.037835\n",
       "1         ID_22    0.107953\n",
       "2         ID_23    0.107953\n",
       "3         ID_29    0.041576\n",
       "4         ID_34    0.041576\n",
       "...         ...         ...\n",
       "15925  ID_13569    0.036362\n",
       "15926  ID_31670    0.026363\n",
       "15927  ID_31759    0.042481\n",
       "15928   ID_5855    0.104046\n",
       "15929  ID_13889    0.026328\n",
       "\n",
       "[15930 rows x 2 columns]"
      ]
     },
     "execution_count": 48,
     "metadata": {},
     "output_type": "execute_result"
    }
   ],
   "source": [
    "submission=new1[['ID','predicted2']]\n",
    "submission"
   ]
  },
  {
   "cell_type": "code",
   "execution_count": 75,
   "id": "4e9aedbd-77d8-410d-bef8-60f0226d9cf3",
   "metadata": {},
   "outputs": [],
   "source": [
    "### enregister comme Csv"
   ]
  },
  {
   "cell_type": "code",
   "execution_count": 49,
   "id": "970cb398-724d-4d06-aa75-47b8a3c27d9b",
   "metadata": {},
   "outputs": [],
   "source": [
    "submission.to_csv('gradient.csv',index=False)"
   ]
  },
  {
   "cell_type": "markdown",
   "id": "459030d2-3a6e-45b6-b0aa-41dfaef9c8f0",
   "metadata": {},
   "source": [
    "#### application du modele GradientBoostingClassifier sans utiliser le pipline"
   ]
  },
  {
   "cell_type": "code",
   "execution_count": 50,
   "id": "4ca0a12b-4a48-4d53-bc1b-b0333804118a",
   "metadata": {},
   "outputs": [],
   "source": [
    "# Séparer les variables indépendantes et la variable dépendante\n",
    "X = data.drop('Decision', axis=1)\n",
    "y = data['Decision']\n",
    "# Diviser les données en données d'entraînement et de test\n",
    "X_train, X_test, y_train, y_test = train_test_split(X, y, test_size=0.2, random_state=42, stratify=y)\n",
    "# Définir les colonnes catégorielles et numériques\n",
    "cat_cols = ['Serie,x', 'GroupeAnonymat', 'LieuNaissance', 'Centre', 'Etablissement', 'Willaya', 'moughataa']\n",
    "num_cols = ['age']\n",
    "# Prétraitement des données\n",
    "preprocessor = ColumnTransformer(transformers=[\n",
    "    ('num', StandardScaler(), num_cols),\n",
    "    ('cat', OneHotEncoder(handle_unknown='ignore'), cat_cols)])\n",
    "\n",
    "# Encodage des variables catégorielles dans le jeu de données d'entraînement\n",
    "X_train = preprocessor.fit_transform(X_train)\n",
    "# Encodage des variables catégorielles dans le jeu de données de test\n",
    "X_test = preprocessor.transform(X_test)\n",
    "\n",
    "# Créer le modèle de Gradient Boosting\n",
    "gb = GradientBoostingClassifier()\n",
    "\n",
    "# Entraîner le modèle sur les données d'apprentissage\n",
    "gb.fit(X_train, y_train)\n",
    "\n",
    "# Faire des prédictions sur les données de test\n",
    "y_pred = gb.predict(X_test)"
   ]
  },
  {
   "cell_type": "code",
   "execution_count": 55,
   "id": "e790a107-46aa-419e-af62-7fb4c8a4b984",
   "metadata": {},
   "outputs": [
    {
     "data": {
      "text/html": [
       "<div>\n",
       "<style scoped>\n",
       "    .dataframe tbody tr th:only-of-type {\n",
       "        vertical-align: middle;\n",
       "    }\n",
       "\n",
       "    .dataframe tbody tr th {\n",
       "        vertical-align: top;\n",
       "    }\n",
       "\n",
       "    .dataframe thead th {\n",
       "        text-align: right;\n",
       "    }\n",
       "</style>\n",
       "<table border=\"1\" class=\"dataframe\">\n",
       "  <thead>\n",
       "    <tr style=\"text-align: right;\">\n",
       "      <th></th>\n",
       "      <th>ID</th>\n",
       "      <th>Serie,x</th>\n",
       "      <th>GroupeAnonymat</th>\n",
       "      <th>LieuNaissance</th>\n",
       "      <th>Centre</th>\n",
       "      <th>Etablissement</th>\n",
       "      <th>Willaya</th>\n",
       "      <th>moughataa</th>\n",
       "      <th>age</th>\n",
       "    </tr>\n",
       "  </thead>\n",
       "  <tbody>\n",
       "    <tr>\n",
       "      <th>0</th>\n",
       "      <td>ID_15</td>\n",
       "      <td>SN</td>\n",
       "      <td>SN09</td>\n",
       "      <td>Vassala</td>\n",
       "      <td>Lycée Vassala</td>\n",
       "      <td>Lycée Vassala</td>\n",
       "      <td>Hod Charghy</td>\n",
       "      <td>BASSEKNOU</td>\n",
       "      <td>22</td>\n",
       "    </tr>\n",
       "    <tr>\n",
       "      <th>1</th>\n",
       "      <td>ID_22</td>\n",
       "      <td>SN</td>\n",
       "      <td>SN09</td>\n",
       "      <td>Vassala</td>\n",
       "      <td>Lycée Vassala</td>\n",
       "      <td>Lycée Vassala</td>\n",
       "      <td>Hod Charghy</td>\n",
       "      <td>BASSEKNOU</td>\n",
       "      <td>18</td>\n",
       "    </tr>\n",
       "    <tr>\n",
       "      <th>2</th>\n",
       "      <td>ID_23</td>\n",
       "      <td>SN</td>\n",
       "      <td>SN09</td>\n",
       "      <td>Vassala</td>\n",
       "      <td>Lycée Vassala</td>\n",
       "      <td>Lycée Vassala</td>\n",
       "      <td>Hod Charghy</td>\n",
       "      <td>BASSEKNOU</td>\n",
       "      <td>18</td>\n",
       "    </tr>\n",
       "    <tr>\n",
       "      <th>3</th>\n",
       "      <td>ID_29</td>\n",
       "      <td>SN</td>\n",
       "      <td>SN09</td>\n",
       "      <td>Vassala</td>\n",
       "      <td>Lycée Vassala</td>\n",
       "      <td>Lycée Vassala</td>\n",
       "      <td>Hod Charghy</td>\n",
       "      <td>BASSEKNOU</td>\n",
       "      <td>21</td>\n",
       "    </tr>\n",
       "    <tr>\n",
       "      <th>4</th>\n",
       "      <td>ID_34</td>\n",
       "      <td>SN</td>\n",
       "      <td>SN09</td>\n",
       "      <td>Vassala</td>\n",
       "      <td>Lycée Vassala</td>\n",
       "      <td>Lycée Vassala</td>\n",
       "      <td>Hod Charghy</td>\n",
       "      <td>BASSEKNOU</td>\n",
       "      <td>21</td>\n",
       "    </tr>\n",
       "  </tbody>\n",
       "</table>\n",
       "</div>"
      ],
      "text/plain": [
       "      ID Serie,x GroupeAnonymat LieuNaissance         Centre  Etablissement  \\\n",
       "0  ID_15      SN           SN09       Vassala  Lycée Vassala  Lycée Vassala   \n",
       "1  ID_22      SN           SN09       Vassala  Lycée Vassala  Lycée Vassala   \n",
       "2  ID_23      SN           SN09       Vassala  Lycée Vassala  Lycée Vassala   \n",
       "3  ID_29      SN           SN09       Vassala  Lycée Vassala  Lycée Vassala   \n",
       "4  ID_34      SN           SN09       Vassala  Lycée Vassala  Lycée Vassala   \n",
       "\n",
       "       Willaya  moughataa  age  \n",
       "0  Hod Charghy  BASSEKNOU   22  \n",
       "1  Hod Charghy  BASSEKNOU   18  \n",
       "2  Hod Charghy  BASSEKNOU   18  \n",
       "3  Hod Charghy  BASSEKNOU   21  \n",
       "4  Hod Charghy  BASSEKNOU   21  "
      ]
     },
     "execution_count": 55,
     "metadata": {},
     "output_type": "execute_result"
    }
   ],
   "source": [
    "new1.head()"
   ]
  },
  {
   "cell_type": "code",
   "execution_count": 76,
   "id": "943dbf45-fc3a-4d65-a58a-17d4f671e2ae",
   "metadata": {},
   "outputs": [],
   "source": [
    "### prdiction de submission_template"
   ]
  },
  {
   "cell_type": "code",
   "execution_count": 54,
   "id": "f3c196bb-b04e-4d22-b0de-68f8235102e3",
   "metadata": {},
   "outputs": [
    {
     "name": "stdout",
     "output_type": "stream",
     "text": [
      "[1 1 1 ... 1 1 1]\n"
     ]
    }
   ],
   "source": [
    "new=pd.read_csv('new_data.csv')\n",
    "new=new.drop('Unnamed: 0',axis=1)\n",
    "new=new.drop('prediction',axis=1)\n",
    "new1=new.drop('Nom',axis=1)\n",
    "# Prétraiter les données\n",
    "new_data_processed = preprocessor.transform(new1)\n",
    "\n",
    "\n",
    "# Faire des prédictions sur les données prétraitées\n",
    "y_pred3 = gb.predict(new_data_processed)\n",
    "\n",
    "# Afficher les prédictions\n",
    "print(y_pred3)"
   ]
  },
  {
   "cell_type": "code",
   "execution_count": 57,
   "id": "3178a929-3070-4160-9730-61225e268521",
   "metadata": {},
   "outputs": [],
   "source": [
    "proba=gb.predict_proba(new_data_processed)\n",
    "pre=proba[:, 0]\n",
    "len(pre)\n",
    "new1['predicted2']=pre\n",
    "submission=new1[['ID','predicted2']]\n",
    "submission\n",
    "submission.to_csv('gb.csv',index=False)"
   ]
  },
  {
   "cell_type": "code",
   "execution_count": 58,
   "id": "0429a474-4c86-4766-b10a-3a1751541e25",
   "metadata": {},
   "outputs": [
    {
     "data": {
      "text/html": [
       "<div>\n",
       "<style scoped>\n",
       "    .dataframe tbody tr th:only-of-type {\n",
       "        vertical-align: middle;\n",
       "    }\n",
       "\n",
       "    .dataframe tbody tr th {\n",
       "        vertical-align: top;\n",
       "    }\n",
       "\n",
       "    .dataframe thead th {\n",
       "        text-align: right;\n",
       "    }\n",
       "</style>\n",
       "<table border=\"1\" class=\"dataframe\">\n",
       "  <thead>\n",
       "    <tr style=\"text-align: right;\">\n",
       "      <th></th>\n",
       "      <th>ID</th>\n",
       "      <th>predicted2</th>\n",
       "    </tr>\n",
       "  </thead>\n",
       "  <tbody>\n",
       "    <tr>\n",
       "      <th>0</th>\n",
       "      <td>ID_15</td>\n",
       "      <td>0.035668</td>\n",
       "    </tr>\n",
       "    <tr>\n",
       "      <th>1</th>\n",
       "      <td>ID_22</td>\n",
       "      <td>0.102206</td>\n",
       "    </tr>\n",
       "    <tr>\n",
       "      <th>2</th>\n",
       "      <td>ID_23</td>\n",
       "      <td>0.102206</td>\n",
       "    </tr>\n",
       "    <tr>\n",
       "      <th>3</th>\n",
       "      <td>ID_29</td>\n",
       "      <td>0.039209</td>\n",
       "    </tr>\n",
       "    <tr>\n",
       "      <th>4</th>\n",
       "      <td>ID_34</td>\n",
       "      <td>0.039209</td>\n",
       "    </tr>\n",
       "    <tr>\n",
       "      <th>...</th>\n",
       "      <td>...</td>\n",
       "      <td>...</td>\n",
       "    </tr>\n",
       "    <tr>\n",
       "      <th>15925</th>\n",
       "      <td>ID_13569</td>\n",
       "      <td>0.035317</td>\n",
       "    </tr>\n",
       "    <tr>\n",
       "      <th>15926</th>\n",
       "      <td>ID_31670</td>\n",
       "      <td>0.026518</td>\n",
       "    </tr>\n",
       "    <tr>\n",
       "      <th>15927</th>\n",
       "      <td>ID_31759</td>\n",
       "      <td>0.042687</td>\n",
       "    </tr>\n",
       "    <tr>\n",
       "      <th>15928</th>\n",
       "      <td>ID_5855</td>\n",
       "      <td>0.101269</td>\n",
       "    </tr>\n",
       "    <tr>\n",
       "      <th>15929</th>\n",
       "      <td>ID_13889</td>\n",
       "      <td>0.027423</td>\n",
       "    </tr>\n",
       "  </tbody>\n",
       "</table>\n",
       "<p>15930 rows × 2 columns</p>\n",
       "</div>"
      ],
      "text/plain": [
       "             ID  predicted2\n",
       "0         ID_15    0.035668\n",
       "1         ID_22    0.102206\n",
       "2         ID_23    0.102206\n",
       "3         ID_29    0.039209\n",
       "4         ID_34    0.039209\n",
       "...         ...         ...\n",
       "15925  ID_13569    0.035317\n",
       "15926  ID_31670    0.026518\n",
       "15927  ID_31759    0.042687\n",
       "15928   ID_5855    0.101269\n",
       "15929  ID_13889    0.027423\n",
       "\n",
       "[15930 rows x 2 columns]"
      ]
     },
     "execution_count": 58,
     "metadata": {},
     "output_type": "execute_result"
    }
   ],
   "source": [
    "submission"
   ]
  },
  {
   "cell_type": "markdown",
   "id": "89377ef5-867f-4e39-81c0-a3bfd4fb4d7e",
   "metadata": {},
   "source": [
    "## 2. Modele du randomforest"
   ]
  },
  {
   "cell_type": "code",
   "execution_count": 59,
   "id": "24ddc79b-a45b-456a-824e-0003cb0022b3",
   "metadata": {},
   "outputs": [
    {
     "name": "stdout",
     "output_type": "stream",
     "text": [
      "              precision    recall  f1-score   support\n",
      "\n",
      "           0       0.37      0.16      0.22       395\n",
      "           1       0.93      0.98      0.95      4384\n",
      "\n",
      "    accuracy                           0.91      4779\n",
      "   macro avg       0.65      0.57      0.59      4779\n",
      "weighted avg       0.88      0.91      0.89      4779\n",
      "\n"
     ]
    }
   ],
   "source": [
    "from sklearn.ensemble import RandomForestClassifier\n",
    "from sklearn.pipeline import make_pipeline\n",
    "from sklearn.compose import ColumnTransformer\n",
    "from sklearn.preprocessing import StandardScaler, OneHotEncoder\n",
    "from sklearn.model_selection import train_test_split\n",
    "\n",
    "# Séparer les variables indépendantes et la variable dépendante\n",
    "X = data.drop('Decision',axis=1)\n",
    "y = data['Decision']\n",
    "\n",
    "# Diviser les données en données d'entraînement et de test\n",
    "X_train, X_test, y_train, y_test = train_test_split(X, y, test_size=0.2, random_state=42, stratify=y)\n",
    "\n",
    "# Définir les colonnes catégorielles et numériques\n",
    "cat_cols = ['Serie,x', 'GroupeAnonymat', 'LieuNaissance', 'Centre', 'Etablissement', 'Willaya', 'moughataa']\n",
    "num_cols = ['age']\n",
    "\n",
    "# Prétraitement des données\n",
    "preprocessor = ColumnTransformer(transformers=[\n",
    "    ('num', StandardScaler(), num_cols),\n",
    "    ('cat', OneHotEncoder(handle_unknown='ignore'), cat_cols)])\n",
    "\n",
    "# Créer le pipeline complet avec le préprocesseur et le modèle\n",
    "model = make_pipeline(\n",
    "    preprocessor,\n",
    "    RandomForestClassifier(n_estimators=100, random_state=42)\n",
    ")\n",
    "\n",
    "# Entraîner le modèle sur les données d'apprentissage\n",
    "model.fit(X_train, y_train)\n",
    "\n",
    "# Faire des prédictions sur les données de test\n",
    "y_pred = model.predict(X_test)\n",
    "\n",
    "# Évaluer les performances du modèle sur les données de test\n",
    "from sklearn.metrics import classification_report\n",
    "print(classification_report(y_test, y_pred))\n"
   ]
  },
  {
   "cell_type": "code",
   "execution_count": 60,
   "id": "576199e0-9fd5-40f0-b0ea-a30fe930f870",
   "metadata": {},
   "outputs": [
    {
     "data": {
      "text/plain": [
       "array([1, 1, 1, ..., 1, 1, 1], dtype=uint8)"
      ]
     },
     "execution_count": 60,
     "metadata": {},
     "output_type": "execute_result"
    }
   ],
   "source": [
    "y_pred"
   ]
  },
  {
   "cell_type": "markdown",
   "id": "8d453192-1211-4faf-8654-23ab7c2263f0",
   "metadata": {},
   "source": [
    "### prdiction de submission_template"
   ]
  },
  {
   "cell_type": "code",
   "execution_count": 63,
   "id": "405ffe2f-d0c9-4fac-869d-a5fa77cb246e",
   "metadata": {},
   "outputs": [
    {
     "name": "stdout",
     "output_type": "stream",
     "text": [
      "[1 1 1 ... 1 1 1]\n"
     ]
    }
   ],
   "source": [
    "new=pd.read_csv('new_data.csv')\n",
    "new=new.drop('Unnamed: 0',axis=1)\n",
    "new=new.drop('prediction',axis=1)\n",
    "new_data_processed=new.drop('Nom',axis=1)\n",
    "# Faire des prédictions sur les données prétraitées\n",
    "y_pred3 = model.predict(new_data_processed)\n",
    "\n",
    "# Afficher les prédictions\n",
    "print(y_pred3)"
   ]
  },
  {
   "cell_type": "code",
   "execution_count": 77,
   "id": "b11b5f28-8f29-4d58-b354-c845ab1b036b",
   "metadata": {},
   "outputs": [],
   "source": [
    "### calculer les probabilites puis fussioner avec les ID du submission_template"
   ]
  },
  {
   "cell_type": "code",
   "execution_count": 64,
   "id": "d8e8b15a-9f11-4059-b426-a635a00290db",
   "metadata": {},
   "outputs": [],
   "source": [
    "proba=model.predict_proba(new_data_processed)\n",
    "pre=proba[:, 0]\n",
    "len(pre)\n",
    "new1['predicted2']=pre\n",
    "submission=new1[['ID','predicted2']]\n",
    "submission\n",
    "submission.to_csv('fr.csv',index=False)"
   ]
  },
  {
   "cell_type": "code",
   "execution_count": null,
   "id": "84d98a6b-c06b-4b63-b745-09dea54124ff",
   "metadata": {},
   "outputs": [],
   "source": []
  }
 ],
 "metadata": {
  "kernelspec": {
   "display_name": "Python 3 (ipykernel)",
   "language": "python",
   "name": "python3"
  },
  "language_info": {
   "codemirror_mode": {
    "name": "ipython",
    "version": 3
   },
   "file_extension": ".py",
   "mimetype": "text/x-python",
   "name": "python",
   "nbconvert_exporter": "python",
   "pygments_lexer": "ipython3",
   "version": "3.9.13"
  }
 },
 "nbformat": 4,
 "nbformat_minor": 5
}

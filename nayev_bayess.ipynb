{
 "cells": [
  {
   "cell_type": "markdown",
   "id": "a7aca000-859c-4c45-acd6-433527b6da60",
   "metadata": {},
   "source": [
    "# Modele MultiNomiale(nayev_bayeseinne)"
   ]
  },
  {
   "cell_type": "markdown",
   "id": "1d55dce2-4c9f-41f0-85e1-5fb8dbd1065e",
   "metadata": {},
   "source": [
    "## Importation des Donnes\n"
   ]
  },
  {
   "cell_type": "code",
   "execution_count": 1,
   "id": "ac0f3b8d-ffc9-41ff-b9a5-aa236b6dcd9a",
   "metadata": {},
   "outputs": [],
   "source": [
    "import pandas as pd\n",
    "from sklearn.preprocessing import LabelEncoder\n",
    "from sklearn.naive_bayes import MultinomialNB\n",
    "from sklearn.model_selection import train_test_split\n",
    "from sklearn.feature_extraction.text import CountVectorizer\n",
    "from sklearn.feature_extraction import DictVectorizer\n",
    "from sklearn.preprocessing import StandardScaler\n",
    "from sklearn.feature_extraction.text import CountVectorizer\n",
    "from sklearn.preprocessing import OneHotEncoder\n",
    "from sklearn.compose import ColumnTransformer"
   ]
  },
  {
   "cell_type": "code",
   "execution_count": 7,
   "id": "c2da44aa-38cb-4984-86ed-a29dc6b5757e",
   "metadata": {},
   "outputs": [
    {
     "data": {
      "text/html": [
       "<div>\n",
       "<style scoped>\n",
       "    .dataframe tbody tr th:only-of-type {\n",
       "        vertical-align: middle;\n",
       "    }\n",
       "\n",
       "    .dataframe tbody tr th {\n",
       "        vertical-align: top;\n",
       "    }\n",
       "\n",
       "    .dataframe thead th {\n",
       "        text-align: right;\n",
       "    }\n",
       "</style>\n",
       "<table border=\"1\" class=\"dataframe\">\n",
       "  <thead>\n",
       "    <tr style=\"text-align: right;\">\n",
       "      <th></th>\n",
       "      <th>Unnamed: 0</th>\n",
       "      <th>Serie,x</th>\n",
       "      <th>GroupeAnonymat</th>\n",
       "      <th>LieuNaissance</th>\n",
       "      <th>Centre</th>\n",
       "      <th>Etablissement</th>\n",
       "      <th>Decision</th>\n",
       "      <th>Willaya</th>\n",
       "      <th>moughataa</th>\n",
       "      <th>DateNaissance</th>\n",
       "    </tr>\n",
       "  </thead>\n",
       "  <tbody>\n",
       "    <tr>\n",
       "      <th>0</th>\n",
       "      <td>27634</td>\n",
       "      <td>SN</td>\n",
       "      <td>SN09</td>\n",
       "      <td>Bathet meit</td>\n",
       "      <td>Lycée Jedida</td>\n",
       "      <td>Lycée Jedida</td>\n",
       "      <td>Ajourné</td>\n",
       "      <td>Nouakchott 2 (Ouest)</td>\n",
       "      <td>KSAR</td>\n",
       "      <td>12 ديسمبر 1998</td>\n",
       "    </tr>\n",
       "    <tr>\n",
       "      <th>1</th>\n",
       "      <td>36311</td>\n",
       "      <td>LO</td>\n",
       "      <td>LO1</td>\n",
       "      <td>Beir Taouress</td>\n",
       "      <td>Lycée Arafat 2 (A)</td>\n",
       "      <td>Lycée Arafat 2</td>\n",
       "      <td>Ajourné</td>\n",
       "      <td>Nouakchott 3 (Sud)</td>\n",
       "      <td>ARAFAT</td>\n",
       "      <td>26 ديسمبر 1991</td>\n",
       "    </tr>\n",
       "    <tr>\n",
       "      <th>2</th>\n",
       "      <td>21059</td>\n",
       "      <td>LM</td>\n",
       "      <td>LM3</td>\n",
       "      <td>Akjoujt</td>\n",
       "      <td>Lycée Akjoujt</td>\n",
       "      <td>Lycée Akjoujt</td>\n",
       "      <td>Ajourné</td>\n",
       "      <td>Inchiri</td>\n",
       "      <td>AKJOUJT</td>\n",
       "      <td>8 مايو 1995</td>\n",
       "    </tr>\n",
       "    <tr>\n",
       "      <th>3</th>\n",
       "      <td>24532</td>\n",
       "      <td>SN</td>\n",
       "      <td>SN06</td>\n",
       "      <td>Chelkhet Tiyab</td>\n",
       "      <td>Lycée Toujounine 1</td>\n",
       "      <td>Lycée Toujounine 1</td>\n",
       "      <td>Ajourné</td>\n",
       "      <td>Nouakchott 1 (Nord)</td>\n",
       "      <td>TOUJOUNINE</td>\n",
       "      <td>24 avr. 1999</td>\n",
       "    </tr>\n",
       "    <tr>\n",
       "      <th>4</th>\n",
       "      <td>17861</td>\n",
       "      <td>SN</td>\n",
       "      <td>SN03</td>\n",
       "      <td>Aere M'Bar</td>\n",
       "      <td>Lycée Nouadhibou 2</td>\n",
       "      <td>Lycée Wava Nouadhibou</td>\n",
       "      <td>Ajourné</td>\n",
       "      <td>Dakhlet NDB</td>\n",
       "      <td>NOUADHIBOU</td>\n",
       "      <td>10 mai 2001</td>\n",
       "    </tr>\n",
       "  </tbody>\n",
       "</table>\n",
       "</div>"
      ],
      "text/plain": [
       "   Unnamed: 0 Serie,x GroupeAnonymat   LieuNaissance              Centre  \\\n",
       "0       27634      SN           SN09     Bathet meit        Lycée Jedida   \n",
       "1       36311      LO            LO1   Beir Taouress  Lycée Arafat 2 (A)   \n",
       "2       21059      LM            LM3         Akjoujt       Lycée Akjoujt   \n",
       "3       24532      SN           SN06  Chelkhet Tiyab  Lycée Toujounine 1   \n",
       "4       17861      SN           SN03      Aere M'Bar  Lycée Nouadhibou 2   \n",
       "\n",
       "           Etablissement Decision               Willaya   moughataa  \\\n",
       "0           Lycée Jedida  Ajourné  Nouakchott 2 (Ouest)        KSAR   \n",
       "1         Lycée Arafat 2  Ajourné    Nouakchott 3 (Sud)      ARAFAT   \n",
       "2          Lycée Akjoujt  Ajourné               Inchiri     AKJOUJT   \n",
       "3     Lycée Toujounine 1  Ajourné   Nouakchott 1 (Nord)  TOUJOUNINE   \n",
       "4  Lycée Wava Nouadhibou  Ajourné           Dakhlet NDB  NOUADHIBOU   \n",
       "\n",
       "    DateNaissance  \n",
       "0  12 ديسمبر 1998  \n",
       "1  26 ديسمبر 1991  \n",
       "2     8 مايو 1995  \n",
       "3    24 avr. 1999  \n",
       "4     10 mai 2001  "
      ]
     },
     "execution_count": 7,
     "metadata": {},
     "output_type": "execute_result"
    }
   ],
   "source": [
    "data=pd.read_csv('train_set.csv')\n",
    "data=data.drop(['moyeneGeneral','Note1', 'Note2', 'Note3','Note4', 'Note5', 'Note6', 'Note7', 'Note8','Nom','ID'],axis=1)\n",
    "data.head()"
   ]
  },
  {
   "cell_type": "markdown",
   "id": "af4905d0-2f88-44df-8f6d-dbbde8d355ad",
   "metadata": {},
   "source": [
    "## Preprocessing"
   ]
  },
  {
   "cell_type": "code",
   "execution_count": 135,
   "id": "26d2b41a-db20-451a-a183-42d49db94128",
   "metadata": {},
   "outputs": [
    {
     "data": {
      "text/plain": [
       "(23894, 8)"
      ]
     },
     "execution_count": 135,
     "metadata": {},
     "output_type": "execute_result"
    }
   ],
   "source": [
    "# Sélectionner les variables catégorielles\n",
    "cat_vars = [ 'Serie,x', 'GroupeAnonymat', 'LieuNaissance', 'Centre', 'Etablissement', 'Willaya', 'moughataa','age']\n",
    "cat_data = data[cat_vars].values\n",
    "cat_data.shape"
   ]
  },
  {
   "cell_type": "code",
   "execution_count": 150,
   "id": "71a0aa74-ad54-4653-b26b-c0bd5d99f643",
   "metadata": {},
   "outputs": [],
   "source": [
    "from sklearn.preprocessing import OneHotEncoder\n",
    "\n",
    "# Instancier un objet OneHotEncoder\n",
    "encoder = OneHotEncoder(sparse=False,handle_unknown='ignore')\n",
    "# Encoder les variables catégorielles\n",
    "X = encoder.fit_transform(cat_data)"
   ]
  },
  {
   "cell_type": "code",
   "execution_count": 151,
   "id": "554f84df-f3e9-4b5f-98e1-95011ab4edbd",
   "metadata": {},
   "outputs": [
    {
     "data": {
      "text/plain": [
       "(23894, 1137)"
      ]
     },
     "execution_count": 151,
     "metadata": {},
     "output_type": "execute_result"
    }
   ],
   "source": [
    "X.shape"
   ]
  },
  {
   "cell_type": "code",
   "execution_count": 10,
   "id": "8aa0922c-ffdb-4e24-939b-e8c1ad0e84a5",
   "metadata": {},
   "outputs": [],
   "source": [
    "### creer la variable age\n",
    "data['age'] = data['DateNaissance'].apply(  \n",
    "    lambda x: int(x.split(\"-\")[2] if '-' in x else int(x.split(\" \")[2]) )\n",
    "    ).apply(lambda x : 2021 - x if x > 1900  else ( 121 - x if x > 21 else 21 - x))"
   ]
  },
  {
   "cell_type": "code",
   "execution_count": null,
   "id": "6f556b23-0948-4443-8849-e3446fe09663",
   "metadata": {},
   "outputs": [],
   "source": [
    "# Transformer les observations pour qu'on avoir deux modalites 'admis' et 'ajournee'\n",
    "data['Decision'] = data['Decision'].replace(['Ajourné', 'Sessionnaire', 'Abscent', 'Examen annulé à cause du Téléphone', 'Examen annulé à cause du comportement'], 'Ajourné')"
   ]
  },
  {
   "cell_type": "code",
   "execution_count": 33,
   "id": "6aa41257-4d0f-4189-8887-811cb21f4b5e",
   "metadata": {},
   "outputs": [
    {
     "data": {
      "text/html": [
       "<div>\n",
       "<style scoped>\n",
       "    .dataframe tbody tr th:only-of-type {\n",
       "        vertical-align: middle;\n",
       "    }\n",
       "\n",
       "    .dataframe tbody tr th {\n",
       "        vertical-align: top;\n",
       "    }\n",
       "\n",
       "    .dataframe thead th {\n",
       "        text-align: right;\n",
       "    }\n",
       "</style>\n",
       "<table border=\"1\" class=\"dataframe\">\n",
       "  <thead>\n",
       "    <tr style=\"text-align: right;\">\n",
       "      <th></th>\n",
       "      <th>Unnamed: 0</th>\n",
       "      <th>Serie,x</th>\n",
       "      <th>GroupeAnonymat</th>\n",
       "      <th>LieuNaissance</th>\n",
       "      <th>Centre</th>\n",
       "      <th>Etablissement</th>\n",
       "      <th>Decision</th>\n",
       "      <th>Willaya</th>\n",
       "      <th>moughataa</th>\n",
       "      <th>DateNaissance</th>\n",
       "      <th>age</th>\n",
       "    </tr>\n",
       "  </thead>\n",
       "  <tbody>\n",
       "    <tr>\n",
       "      <th>0</th>\n",
       "      <td>27634</td>\n",
       "      <td>SN</td>\n",
       "      <td>SN09</td>\n",
       "      <td>Bathet meit</td>\n",
       "      <td>Lycée Jedida</td>\n",
       "      <td>Lycée Jedida</td>\n",
       "      <td>1</td>\n",
       "      <td>Nouakchott 2 (Ouest)</td>\n",
       "      <td>KSAR</td>\n",
       "      <td>12 ديسمبر 1998</td>\n",
       "      <td>23</td>\n",
       "    </tr>\n",
       "    <tr>\n",
       "      <th>1</th>\n",
       "      <td>36311</td>\n",
       "      <td>LO</td>\n",
       "      <td>LO1</td>\n",
       "      <td>Beir Taouress</td>\n",
       "      <td>Lycée Arafat 2 (A)</td>\n",
       "      <td>Lycée Arafat 2</td>\n",
       "      <td>1</td>\n",
       "      <td>Nouakchott 3 (Sud)</td>\n",
       "      <td>ARAFAT</td>\n",
       "      <td>26 ديسمبر 1991</td>\n",
       "      <td>30</td>\n",
       "    </tr>\n",
       "    <tr>\n",
       "      <th>2</th>\n",
       "      <td>21059</td>\n",
       "      <td>LM</td>\n",
       "      <td>LM3</td>\n",
       "      <td>Akjoujt</td>\n",
       "      <td>Lycée Akjoujt</td>\n",
       "      <td>Lycée Akjoujt</td>\n",
       "      <td>1</td>\n",
       "      <td>Inchiri</td>\n",
       "      <td>AKJOUJT</td>\n",
       "      <td>8 مايو 1995</td>\n",
       "      <td>26</td>\n",
       "    </tr>\n",
       "    <tr>\n",
       "      <th>3</th>\n",
       "      <td>24532</td>\n",
       "      <td>SN</td>\n",
       "      <td>SN06</td>\n",
       "      <td>Chelkhet Tiyab</td>\n",
       "      <td>Lycée Toujounine 1</td>\n",
       "      <td>Lycée Toujounine 1</td>\n",
       "      <td>1</td>\n",
       "      <td>Nouakchott 1 (Nord)</td>\n",
       "      <td>TOUJOUNINE</td>\n",
       "      <td>24 avr. 1999</td>\n",
       "      <td>22</td>\n",
       "    </tr>\n",
       "    <tr>\n",
       "      <th>4</th>\n",
       "      <td>17861</td>\n",
       "      <td>SN</td>\n",
       "      <td>SN03</td>\n",
       "      <td>Aere M'Bar</td>\n",
       "      <td>Lycée Nouadhibou 2</td>\n",
       "      <td>Lycée Wava Nouadhibou</td>\n",
       "      <td>1</td>\n",
       "      <td>Dakhlet NDB</td>\n",
       "      <td>NOUADHIBOU</td>\n",
       "      <td>10 mai 2001</td>\n",
       "      <td>20</td>\n",
       "    </tr>\n",
       "  </tbody>\n",
       "</table>\n",
       "</div>"
      ],
      "text/plain": [
       "   Unnamed: 0 Serie,x GroupeAnonymat   LieuNaissance              Centre  \\\n",
       "0       27634      SN           SN09     Bathet meit        Lycée Jedida   \n",
       "1       36311      LO            LO1   Beir Taouress  Lycée Arafat 2 (A)   \n",
       "2       21059      LM            LM3         Akjoujt       Lycée Akjoujt   \n",
       "3       24532      SN           SN06  Chelkhet Tiyab  Lycée Toujounine 1   \n",
       "4       17861      SN           SN03      Aere M'Bar  Lycée Nouadhibou 2   \n",
       "\n",
       "           Etablissement  Decision               Willaya   moughataa  \\\n",
       "0           Lycée Jedida         1  Nouakchott 2 (Ouest)        KSAR   \n",
       "1         Lycée Arafat 2         1    Nouakchott 3 (Sud)      ARAFAT   \n",
       "2          Lycée Akjoujt         1               Inchiri     AKJOUJT   \n",
       "3     Lycée Toujounine 1         1   Nouakchott 1 (Nord)  TOUJOUNINE   \n",
       "4  Lycée Wava Nouadhibou         1           Dakhlet NDB  NOUADHIBOU   \n",
       "\n",
       "    DateNaissance  age  \n",
       "0  12 ديسمبر 1998   23  \n",
       "1  26 ديسمبر 1991   30  \n",
       "2     8 مايو 1995   26  \n",
       "3    24 avr. 1999   22  \n",
       "4     10 mai 2001   20  "
      ]
     },
     "execution_count": 33,
     "metadata": {},
     "output_type": "execute_result"
    }
   ],
   "source": [
    "### encoder la variable target \n",
    "data['Decision']=pd.get_dummies(data['Decision'],drop_first=True)\n",
    "data.head()"
   ]
  },
  {
   "cell_type": "code",
   "execution_count": 35,
   "id": "2d669b9b-cea2-4acd-a2f9-a673cb151c11",
   "metadata": {},
   "outputs": [],
   "source": [
    "y = data['Decision']"
   ]
  },
  {
   "cell_type": "code",
   "execution_count": 152,
   "id": "01fbc21a-e4f5-4352-bf04-255939f58f41",
   "metadata": {},
   "outputs": [],
   "source": [
    "# Diviser les données en ensemble d'entraînement et de test\n",
    "X_train, X_test, y_train, y_test = train_test_split(X, y, test_size=0.2,random_state=42)"
   ]
  },
  {
   "cell_type": "markdown",
   "id": "65941c95-9f03-42ab-a71c-5171ff0bde71",
   "metadata": {},
   "source": [
    "## Entrainement du modele"
   ]
  },
  {
   "cell_type": "code",
   "execution_count": 153,
   "id": "795da020-aa42-48d9-a169-3a344842fc98",
   "metadata": {},
   "outputs": [],
   "source": [
    "# Entraînement du modèle de classification multinomiale Naive Bayes\n",
    "clf = MultinomialNB()\n",
    "clf.fit(X_train, y_train)\n",
    "\n",
    "# Prédiction sur l'ensemble de test\n",
    "y_pred = clf.predict(X_test)"
   ]
  },
  {
   "cell_type": "markdown",
   "id": "67b5f84f-0128-4d9a-91a0-36636f23b264",
   "metadata": {},
   "source": [
    "## Evaluation du modele"
   ]
  },
  {
   "cell_type": "code",
   "execution_count": 154,
   "id": "f415b125-bbd9-427e-b709-0ba285002a14",
   "metadata": {},
   "outputs": [
    {
     "name": "stdout",
     "output_type": "stream",
     "text": [
      "Accuracy score: 0.8462021343377275\n",
      "Precision score: 0.9532756489493202\n",
      "Recall score: 0.8759654702407996\n",
      "F1 score: 0.9129868592399669\n"
     ]
    }
   ],
   "source": [
    "# Calcul des scores de précision, rappel et F1\n",
    "from sklearn.metrics import accuracy_score, precision_score, recall_score, f1_score\n",
    "print('Accuracy score:', accuracy_score(y_test, y_pred))\n",
    "print('Precision score:', precision_score(y_test, y_pred))\n",
    "print('Recall score:', recall_score(y_test, y_pred))\n",
    "print('F1 score:', f1_score(y_test, y_pred))"
   ]
  },
  {
   "cell_type": "code",
   "execution_count": 155,
   "id": "effcd50d-cd0f-42b2-869c-6bfbb4a14001",
   "metadata": {},
   "outputs": [
    {
     "data": {
      "text/plain": [
       "0.8462021343377275"
      ]
     },
     "execution_count": 155,
     "metadata": {},
     "output_type": "execute_result"
    }
   ],
   "source": [
    "clf.score(X_test,y_test)"
   ]
  },
  {
   "cell_type": "markdown",
   "id": "2a05346f-e65d-470b-8d6b-404834ecd1e3",
   "metadata": {},
   "source": [
    "## tester le modele sur les donnes de submission_template"
   ]
  },
  {
   "cell_type": "markdown",
   "id": "55bfb171-a6c3-4220-a05d-c28a130634c2",
   "metadata": {},
   "source": [
    "### Creation du dataset new_data\n"
   ]
  },
  {
   "cell_type": "code",
   "execution_count": 48,
   "id": "446714f0-1e89-4029-87bc-52673ee096e8",
   "metadata": {},
   "outputs": [],
   "source": [
    "test=pd.read_csv('test_set.csv',sep=';',index_col='ID')\n",
    "test=test.drop([\"Unnamed: 0\",'prediction'],axis=1)"
   ]
  },
  {
   "cell_type": "code",
   "execution_count": 51,
   "id": "1f933904-0901-42af-9e1f-38db42beb9fd",
   "metadata": {},
   "outputs": [
    {
     "data": {
      "text/html": [
       "<div>\n",
       "<style scoped>\n",
       "    .dataframe tbody tr th:only-of-type {\n",
       "        vertical-align: middle;\n",
       "    }\n",
       "\n",
       "    .dataframe tbody tr th {\n",
       "        vertical-align: top;\n",
       "    }\n",
       "\n",
       "    .dataframe thead th {\n",
       "        text-align: right;\n",
       "    }\n",
       "</style>\n",
       "<table border=\"1\" class=\"dataframe\">\n",
       "  <thead>\n",
       "    <tr style=\"text-align: right;\">\n",
       "      <th></th>\n",
       "      <th>Nom</th>\n",
       "      <th>Serie,x</th>\n",
       "      <th>GroupeAnonymat</th>\n",
       "      <th>LieuNaissance</th>\n",
       "      <th>Centre</th>\n",
       "      <th>Etablissement</th>\n",
       "      <th>Willaya</th>\n",
       "      <th>moughataa</th>\n",
       "      <th>DateNaissance</th>\n",
       "      <th>age</th>\n",
       "    </tr>\n",
       "    <tr>\n",
       "      <th>ID</th>\n",
       "      <th></th>\n",
       "      <th></th>\n",
       "      <th></th>\n",
       "      <th></th>\n",
       "      <th></th>\n",
       "      <th></th>\n",
       "      <th></th>\n",
       "      <th></th>\n",
       "      <th></th>\n",
       "      <th></th>\n",
       "    </tr>\n",
       "  </thead>\n",
       "  <tbody>\n",
       "    <tr>\n",
       "      <th>ID_6</th>\n",
       "      <td>Mohamed Hama Ahmed Lely</td>\n",
       "      <td>SN</td>\n",
       "      <td>SN09</td>\n",
       "      <td>Vassala</td>\n",
       "      <td>Lycée Vassala</td>\n",
       "      <td>Lycée Vassala</td>\n",
       "      <td>Hod Charghy</td>\n",
       "      <td>BASSEKNOU</td>\n",
       "      <td>15 يوليو 2001</td>\n",
       "      <td>20</td>\n",
       "    </tr>\n",
       "    <tr>\n",
       "      <th>ID_15</th>\n",
       "      <td>Fatimatou Mohamed Sid Abbe</td>\n",
       "      <td>SN</td>\n",
       "      <td>SN09</td>\n",
       "      <td>Vassala</td>\n",
       "      <td>Lycée Vassala</td>\n",
       "      <td>Lycée Vassala</td>\n",
       "      <td>Hod Charghy</td>\n",
       "      <td>BASSEKNOU</td>\n",
       "      <td>12 août 1999</td>\n",
       "      <td>22</td>\n",
       "    </tr>\n",
       "    <tr>\n",
       "      <th>ID_18</th>\n",
       "      <td>El Alye Cheikh Ahmed Maihmatt</td>\n",
       "      <td>SN</td>\n",
       "      <td>SN09</td>\n",
       "      <td>Vassala</td>\n",
       "      <td>Lycée Vassala</td>\n",
       "      <td>Lycée Vassala</td>\n",
       "      <td>Hod Charghy</td>\n",
       "      <td>BASSEKNOU</td>\n",
       "      <td>18 sept. 1999</td>\n",
       "      <td>22</td>\n",
       "    </tr>\n",
       "    <tr>\n",
       "      <th>ID_19</th>\n",
       "      <td>Haine Mohamed Lemin Telba</td>\n",
       "      <td>SN</td>\n",
       "      <td>SN09</td>\n",
       "      <td>Vassala</td>\n",
       "      <td>Lycée Vassala</td>\n",
       "      <td>Lycée Vassala</td>\n",
       "      <td>Hod Charghy</td>\n",
       "      <td>BASSEKNOU</td>\n",
       "      <td>24 août 1998</td>\n",
       "      <td>23</td>\n",
       "    </tr>\n",
       "    <tr>\n",
       "      <th>ID_20</th>\n",
       "      <td>Aichata Sid'Ahmed Ahmed Ely</td>\n",
       "      <td>SN</td>\n",
       "      <td>SN09</td>\n",
       "      <td>El Megve</td>\n",
       "      <td>Lycée Vassala</td>\n",
       "      <td>Lycée Vassala</td>\n",
       "      <td>Hod Charghy</td>\n",
       "      <td>BASSEKNOU</td>\n",
       "      <td>31-mai-95</td>\n",
       "      <td>26</td>\n",
       "    </tr>\n",
       "  </tbody>\n",
       "</table>\n",
       "</div>"
      ],
      "text/plain": [
       "                                 Nom Serie,x GroupeAnonymat LieuNaissance  \\\n",
       "ID                                                                          \n",
       "ID_6         Mohamed Hama Ahmed Lely      SN           SN09       Vassala   \n",
       "ID_15     Fatimatou Mohamed Sid Abbe      SN           SN09       Vassala   \n",
       "ID_18  El Alye Cheikh Ahmed Maihmatt      SN           SN09       Vassala   \n",
       "ID_19      Haine Mohamed Lemin Telba      SN           SN09       Vassala   \n",
       "ID_20    Aichata Sid'Ahmed Ahmed Ely      SN           SN09      El Megve   \n",
       "\n",
       "              Centre  Etablissement      Willaya  moughataa  DateNaissance  \\\n",
       "ID                                                                           \n",
       "ID_6   Lycée Vassala  Lycée Vassala  Hod Charghy  BASSEKNOU  15 يوليو 2001   \n",
       "ID_15  Lycée Vassala  Lycée Vassala  Hod Charghy  BASSEKNOU   12 août 1999   \n",
       "ID_18  Lycée Vassala  Lycée Vassala  Hod Charghy  BASSEKNOU  18 sept. 1999   \n",
       "ID_19  Lycée Vassala  Lycée Vassala  Hod Charghy  BASSEKNOU   24 août 1998   \n",
       "ID_20  Lycée Vassala  Lycée Vassala  Hod Charghy  BASSEKNOU      31-mai-95   \n",
       "\n",
       "       age  \n",
       "ID          \n",
       "ID_6    20  \n",
       "ID_15   22  \n",
       "ID_18   22  \n",
       "ID_19   23  \n",
       "ID_20   26  "
      ]
     },
     "execution_count": 51,
     "metadata": {},
     "output_type": "execute_result"
    }
   ],
   "source": [
    "test.head()"
   ]
  },
  {
   "cell_type": "code",
   "execution_count": 50,
   "id": "ec82ac3f-7119-4c40-bdcb-078a5690a317",
   "metadata": {},
   "outputs": [],
   "source": [
    "test['age'] = test['DateNaissance'].apply(  \n",
    "    lambda x: int(x.split(\"-\")[2] if '-' in x else int(x.split(\" \")[2]) )\n",
    "    ).apply(lambda x : 2021 - x if x > 1900  else ( 121 - x if x > 21 else 21 - x))"
   ]
  },
  {
   "cell_type": "code",
   "execution_count": 52,
   "id": "32b2f751-b97d-4139-bcf7-d3d8e77086db",
   "metadata": {},
   "outputs": [],
   "source": [
    "test=test.drop(\"DateNaissance\",axis=1)"
   ]
  },
  {
   "cell_type": "code",
   "execution_count": 46,
   "id": "73e9ed10-b360-42ae-a192-6687e80dce6a",
   "metadata": {},
   "outputs": [
    {
     "data": {
      "text/html": [
       "<div>\n",
       "<style scoped>\n",
       "    .dataframe tbody tr th:only-of-type {\n",
       "        vertical-align: middle;\n",
       "    }\n",
       "\n",
       "    .dataframe tbody tr th {\n",
       "        vertical-align: top;\n",
       "    }\n",
       "\n",
       "    .dataframe thead th {\n",
       "        text-align: right;\n",
       "    }\n",
       "</style>\n",
       "<table border=\"1\" class=\"dataframe\">\n",
       "  <thead>\n",
       "    <tr style=\"text-align: right;\">\n",
       "      <th></th>\n",
       "      <th>Nom</th>\n",
       "      <th>Serie,x</th>\n",
       "      <th>GroupeAnonymat</th>\n",
       "      <th>LieuNaissance</th>\n",
       "      <th>Centre</th>\n",
       "      <th>Etablissement</th>\n",
       "      <th>Decision</th>\n",
       "      <th>Willaya</th>\n",
       "      <th>moughataa</th>\n",
       "      <th>DateNaissance</th>\n",
       "    </tr>\n",
       "    <tr>\n",
       "      <th>ID</th>\n",
       "      <th></th>\n",
       "      <th></th>\n",
       "      <th></th>\n",
       "      <th></th>\n",
       "      <th></th>\n",
       "      <th></th>\n",
       "      <th></th>\n",
       "      <th></th>\n",
       "      <th></th>\n",
       "      <th></th>\n",
       "    </tr>\n",
       "  </thead>\n",
       "  <tbody>\n",
       "    <tr>\n",
       "      <th>ID_27634</th>\n",
       "      <td>El Ide Brahim M'Hadi</td>\n",
       "      <td>SN</td>\n",
       "      <td>SN09</td>\n",
       "      <td>Bathet meit</td>\n",
       "      <td>Lycée Jedida</td>\n",
       "      <td>Lycée Jedida</td>\n",
       "      <td>Ajourné</td>\n",
       "      <td>Nouakchott 2 (Ouest)</td>\n",
       "      <td>KSAR</td>\n",
       "      <td>12 ديسمبر 1998</td>\n",
       "    </tr>\n",
       "    <tr>\n",
       "      <th>ID_36311</th>\n",
       "      <td>Mariem Yedaly Afane</td>\n",
       "      <td>LO</td>\n",
       "      <td>LO1</td>\n",
       "      <td>Beir Taouress</td>\n",
       "      <td>Lycée Arafat 2 (A)</td>\n",
       "      <td>Lycée Arafat 2</td>\n",
       "      <td>Ajourné</td>\n",
       "      <td>Nouakchott 3 (Sud)</td>\n",
       "      <td>ARAFAT</td>\n",
       "      <td>26 ديسمبر 1991</td>\n",
       "    </tr>\n",
       "    <tr>\n",
       "      <th>ID_21059</th>\n",
       "      <td>Aiche Jiyid Jiyid</td>\n",
       "      <td>LM</td>\n",
       "      <td>LM3</td>\n",
       "      <td>Akjoujt</td>\n",
       "      <td>Lycée Akjoujt</td>\n",
       "      <td>Lycée Akjoujt</td>\n",
       "      <td>Ajourné</td>\n",
       "      <td>Inchiri</td>\n",
       "      <td>AKJOUJT</td>\n",
       "      <td>8 مايو 1995</td>\n",
       "    </tr>\n",
       "    <tr>\n",
       "      <th>ID_24532</th>\n",
       "      <td>Ahmed Abd El Ghader Meissa</td>\n",
       "      <td>SN</td>\n",
       "      <td>SN06</td>\n",
       "      <td>Chelkhet Tiyab</td>\n",
       "      <td>Lycée Toujounine 1</td>\n",
       "      <td>Lycée Toujounine 1</td>\n",
       "      <td>Ajourné</td>\n",
       "      <td>Nouakchott 1 (Nord)</td>\n",
       "      <td>TOUJOUNINE</td>\n",
       "      <td>24 avr. 1999</td>\n",
       "    </tr>\n",
       "    <tr>\n",
       "      <th>ID_17861</th>\n",
       "      <td>Mariam Abdoulaye Ba</td>\n",
       "      <td>SN</td>\n",
       "      <td>SN03</td>\n",
       "      <td>Aere M'Bar</td>\n",
       "      <td>Lycée Nouadhibou 2</td>\n",
       "      <td>Lycée Wava Nouadhibou</td>\n",
       "      <td>Ajourné</td>\n",
       "      <td>Dakhlet NDB</td>\n",
       "      <td>NOUADHIBOU</td>\n",
       "      <td>10 mai 2001</td>\n",
       "    </tr>\n",
       "  </tbody>\n",
       "</table>\n",
       "</div>"
      ],
      "text/plain": [
       "                                 Nom Serie,x GroupeAnonymat   LieuNaissance  \\\n",
       "ID                                                                            \n",
       "ID_27634        El Ide Brahim M'Hadi      SN           SN09     Bathet meit   \n",
       "ID_36311         Mariem Yedaly Afane      LO            LO1   Beir Taouress   \n",
       "ID_21059           Aiche Jiyid Jiyid      LM            LM3         Akjoujt   \n",
       "ID_24532  Ahmed Abd El Ghader Meissa      SN           SN06  Chelkhet Tiyab   \n",
       "ID_17861         Mariam Abdoulaye Ba      SN           SN03      Aere M'Bar   \n",
       "\n",
       "                      Centre          Etablissement Decision  \\\n",
       "ID                                                             \n",
       "ID_27634        Lycée Jedida           Lycée Jedida  Ajourné   \n",
       "ID_36311  Lycée Arafat 2 (A)         Lycée Arafat 2  Ajourné   \n",
       "ID_21059       Lycée Akjoujt          Lycée Akjoujt  Ajourné   \n",
       "ID_24532  Lycée Toujounine 1     Lycée Toujounine 1  Ajourné   \n",
       "ID_17861  Lycée Nouadhibou 2  Lycée Wava Nouadhibou  Ajourné   \n",
       "\n",
       "                       Willaya   moughataa   DateNaissance  \n",
       "ID                                                          \n",
       "ID_27634  Nouakchott 2 (Ouest)        KSAR  12 ديسمبر 1998  \n",
       "ID_36311    Nouakchott 3 (Sud)      ARAFAT  26 ديسمبر 1991  \n",
       "ID_21059               Inchiri     AKJOUJT     8 مايو 1995  \n",
       "ID_24532   Nouakchott 1 (Nord)  TOUJOUNINE    24 avr. 1999  \n",
       "ID_17861           Dakhlet NDB  NOUADHIBOU     10 mai 2001  "
      ]
     },
     "execution_count": 46,
     "metadata": {},
     "output_type": "execute_result"
    }
   ],
   "source": [
    "data1=pd.read_csv('train_set.csv',index_col='ID')\n",
    "data1=data1.drop([\"Unnamed: 0\",'moyeneGeneral','Note1', 'Note2', 'Note3','Note4', 'Note5', 'Note6', 'Note7', 'Note8'],axis=1)\n",
    "data1.head()"
   ]
  },
  {
   "cell_type": "code",
   "execution_count": 53,
   "id": "a3e3fcc0-79f1-4140-9aff-3709cf27630b",
   "metadata": {},
   "outputs": [],
   "source": [
    "data1['age'] = data1['DateNaissance'].apply(  \n",
    "    lambda x: int(x.split(\"-\")[2] if '-' in x else int(x.split(\" \")[2]) )\n",
    "    ).apply(lambda x : 2021 - x if x > 1900  else ( 121 - x if x > 21 else 21 - x))"
   ]
  },
  {
   "cell_type": "code",
   "execution_count": 54,
   "id": "8511b0db-dc8c-4893-8ce1-a23790bd02ef",
   "metadata": {},
   "outputs": [],
   "source": [
    "data1=data1.drop(\"DateNaissance\",axis=1)"
   ]
  },
  {
   "cell_type": "code",
   "execution_count": 57,
   "id": "9f5551c3-3ee5-4a9e-939a-2e73496b14c4",
   "metadata": {},
   "outputs": [],
   "source": [
    "data1=data1.drop(\"Decision\",axis=1)"
   ]
  },
  {
   "cell_type": "code",
   "execution_count": 77,
   "id": "a5b2c68d-0b4e-4a5c-a6ce-7643a77b33dd",
   "metadata": {},
   "outputs": [],
   "source": [
    "new=pd.concat([test,data1],axis=0)"
   ]
  },
  {
   "cell_type": "code",
   "execution_count": 80,
   "id": "c9e559b5-2bb7-4b96-bc6f-03da72e51a20",
   "metadata": {},
   "outputs": [],
   "source": [
    "new=new.reset_index()"
   ]
  },
  {
   "cell_type": "code",
   "execution_count": 109,
   "id": "3df3bf52-390a-4f03-b600-bc7071f837dd",
   "metadata": {},
   "outputs": [
    {
     "data": {
      "text/plain": [
       "(15930, 10)"
      ]
     },
     "execution_count": 109,
     "metadata": {},
     "output_type": "execute_result"
    }
   ],
   "source": [
    "new.shape"
   ]
  },
  {
   "cell_type": "code",
   "execution_count": 202,
   "id": "76dd49a4-ea37-477c-b1b1-0b3f0e98dcbc",
   "metadata": {},
   "outputs": [],
   "source": [
    "sub=pd.read_csv('submission_template.csv')"
   ]
  },
  {
   "cell_type": "code",
   "execution_count": 82,
   "id": "4f6573fa-5d1f-408a-b18d-c016b260a23b",
   "metadata": {},
   "outputs": [],
   "source": [
    "new = new[new.ID.isin(sub.Id)]"
   ]
  },
  {
   "cell_type": "code",
   "execution_count": 201,
   "id": "6df71e83-c061-4227-852f-b4df7ff4ad68",
   "metadata": {},
   "outputs": [],
   "source": [
    "new.to_csv('new_data.csv')"
   ]
  },
  {
   "cell_type": "code",
   "execution_count": 145,
   "id": "80aae824-f033-4554-bf42-c091bb925837",
   "metadata": {},
   "outputs": [],
   "source": [
    "cat_vars2 = [ 'Serie,x', 'GroupeAnonymat', 'LieuNaissance', 'Centre', 'Etablissement', 'Willaya', 'moughataa','age']\n",
    "cat_data2 = new[cat_vars2].values"
   ]
  },
  {
   "cell_type": "code",
   "execution_count": 146,
   "id": "578bb87a-f120-41e7-abb7-3cff03d900dc",
   "metadata": {},
   "outputs": [
    {
     "data": {
      "text/plain": [
       "(15930, 8)"
      ]
     },
     "execution_count": 146,
     "metadata": {},
     "output_type": "execute_result"
    }
   ],
   "source": [
    "cat_data2.shape"
   ]
  },
  {
   "cell_type": "code",
   "execution_count": 156,
   "id": "2f368237-9047-4bf4-bc23-76c8e856e53b",
   "metadata": {},
   "outputs": [],
   "source": [
    "# encoder les variables categorielles \n",
    "X2 = encoder.transform(cat_data2)"
   ]
  },
  {
   "cell_type": "code",
   "execution_count": 148,
   "id": "7a6a2177-da01-45dc-8bb3-f21bef368136",
   "metadata": {},
   "outputs": [
    {
     "data": {
      "text/plain": [
       "(15930, 1042)"
      ]
     },
     "execution_count": 148,
     "metadata": {},
     "output_type": "execute_result"
    }
   ],
   "source": [
    "X2.shape\n"
   ]
  },
  {
   "cell_type": "code",
   "execution_count": 157,
   "id": "d357925e-5bae-40d5-93ce-909ae51a92bd",
   "metadata": {},
   "outputs": [],
   "source": [
    "y_pred2 = clf.predict(X2)\n"
   ]
  },
  {
   "cell_type": "code",
   "execution_count": 158,
   "id": "22e09bc3-8c59-4631-9b4b-1f91d1d8320a",
   "metadata": {},
   "outputs": [
    {
     "data": {
      "text/plain": [
       "1    13431\n",
       "0     2499\n",
       "dtype: int64"
      ]
     },
     "execution_count": 158,
     "metadata": {},
     "output_type": "execute_result"
    }
   ],
   "source": [
    "y_pred2\n",
    "g=pd.DataFrame(y_pred2)\n",
    "g.value_counts()"
   ]
  },
  {
   "cell_type": "code",
   "execution_count": 168,
   "id": "41a14040-35ce-4f06-83c2-d7eb5702b449",
   "metadata": {},
   "outputs": [
    {
     "data": {
      "text/plain": [
       "array([1, 1, 1, ..., 1, 1, 1], dtype=uint8)"
      ]
     },
     "execution_count": 168,
     "metadata": {},
     "output_type": "execute_result"
    }
   ],
   "source": [
    "y_pred2"
   ]
  },
  {
   "cell_type": "code",
   "execution_count": 159,
   "id": "48c8557b-4053-487a-bcfa-b6921b05ddf0",
   "metadata": {},
   "outputs": [],
   "source": [
    "#trouver la probabilite d'admissiom\n",
    "proba=clf.predict_proba(X2)"
   ]
  },
  {
   "cell_type": "code",
   "execution_count": 160,
   "id": "1affb734-7ea5-4681-9b18-f414d302e1a8",
   "metadata": {},
   "outputs": [
    {
     "data": {
      "text/plain": [
       "array([[2.41599113e-03, 9.97584009e-01],\n",
       "       [1.23271857e-02, 9.87672814e-01],\n",
       "       [1.23271857e-02, 9.87672814e-01],\n",
       "       ...,\n",
       "       [2.10054629e-03, 9.97899454e-01],\n",
       "       [1.38103468e-04, 9.99861897e-01],\n",
       "       [5.03757574e-04, 9.99496242e-01]])"
      ]
     },
     "execution_count": 160,
     "metadata": {},
     "output_type": "execute_result"
    }
   ],
   "source": [
    "proba"
   ]
  },
  {
   "cell_type": "code",
   "execution_count": 164,
   "id": "9c7d3048-8dc6-4ffa-9281-261863415e7b",
   "metadata": {},
   "outputs": [
    {
     "data": {
      "text/plain": [
       "15930"
      ]
     },
     "execution_count": 164,
     "metadata": {},
     "output_type": "execute_result"
    }
   ],
   "source": [
    "pre=proba[:, 0]\n",
    "len(pre)"
   ]
  },
  {
   "cell_type": "code",
   "execution_count": 165,
   "id": "b7d60f95-6fbb-42e3-afd0-b84171cdab59",
   "metadata": {},
   "outputs": [
    {
     "name": "stderr",
     "output_type": "stream",
     "text": [
      "C:\\Users\\TOSHIBA\\AppData\\Local\\Temp\\ipykernel_6372\\1801944449.py:1: SettingWithCopyWarning: \n",
      "A value is trying to be set on a copy of a slice from a DataFrame.\n",
      "Try using .loc[row_indexer,col_indexer] = value instead\n",
      "\n",
      "See the caveats in the documentation: https://pandas.pydata.org/pandas-docs/stable/user_guide/indexing.html#returning-a-view-versus-a-copy\n",
      "  new['prediction']=pre\n"
     ]
    }
   ],
   "source": [
    "new['prediction']=pre"
   ]
  },
  {
   "cell_type": "code",
   "execution_count": 187,
   "id": "0a751e76-18ba-4771-b4cd-fd1eee78badb",
   "metadata": {},
   "outputs": [],
   "source": [
    "submission=new[['ID','prediction']]"
   ]
  },
  {
   "cell_type": "code",
   "execution_count": 170,
   "id": "33c13917-2dc5-431b-83ed-7880aa6853f5",
   "metadata": {},
   "outputs": [],
   "source": [
    "submission.to_csv('sub_nayev_bayesien.csv')"
   ]
  },
  {
   "cell_type": "code",
   "execution_count": 171,
   "id": "8aec7792-db40-41aa-bb00-455585ab671a",
   "metadata": {},
   "outputs": [
    {
     "data": {
      "text/plain": [
       "(15930, 2)"
      ]
     },
     "execution_count": 171,
     "metadata": {},
     "output_type": "execute_result"
    }
   ],
   "source": [
    "submission.shape"
   ]
  },
  {
   "cell_type": "code",
   "execution_count": 194,
   "id": "f0f57384-bdaa-459a-9daa-9d100297d229",
   "metadata": {},
   "outputs": [],
   "source": [
    "r=pd.read_csv('sub_nayev_bayesien.csv',sep=';')"
   ]
  },
  {
   "cell_type": "code",
   "execution_count": 198,
   "id": "329e474f-dcac-42ea-8cf8-c26a2693763d",
   "metadata": {},
   "outputs": [],
   "source": [
    "r.to_csv('sub_nayev_bayesiennn.csv',index=False)"
   ]
  },
  {
   "cell_type": "code",
   "execution_count": 199,
   "id": "217ae3ab-7323-44a3-bacb-5efcc27d76a7",
   "metadata": {},
   "outputs": [
    {
     "data": {
      "text/html": [
       "<div>\n",
       "<style scoped>\n",
       "    .dataframe tbody tr th:only-of-type {\n",
       "        vertical-align: middle;\n",
       "    }\n",
       "\n",
       "    .dataframe tbody tr th {\n",
       "        vertical-align: top;\n",
       "    }\n",
       "\n",
       "    .dataframe thead th {\n",
       "        text-align: right;\n",
       "    }\n",
       "</style>\n",
       "<table border=\"1\" class=\"dataframe\">\n",
       "  <thead>\n",
       "    <tr style=\"text-align: right;\">\n",
       "      <th></th>\n",
       "      <th>Id</th>\n",
       "      <th>Predicted</th>\n",
       "    </tr>\n",
       "  </thead>\n",
       "  <tbody>\n",
       "    <tr>\n",
       "      <th>0</th>\n",
       "      <td>ID_15</td>\n",
       "      <td>0.002416</td>\n",
       "    </tr>\n",
       "    <tr>\n",
       "      <th>1</th>\n",
       "      <td>ID_22</td>\n",
       "      <td>0.012327</td>\n",
       "    </tr>\n",
       "    <tr>\n",
       "      <th>2</th>\n",
       "      <td>ID_23</td>\n",
       "      <td>0.012327</td>\n",
       "    </tr>\n",
       "    <tr>\n",
       "      <th>3</th>\n",
       "      <td>ID_29</td>\n",
       "      <td>0.003012</td>\n",
       "    </tr>\n",
       "    <tr>\n",
       "      <th>4</th>\n",
       "      <td>ID_34</td>\n",
       "      <td>0.003012</td>\n",
       "    </tr>\n",
       "    <tr>\n",
       "      <th>...</th>\n",
       "      <td>...</td>\n",
       "      <td>...</td>\n",
       "    </tr>\n",
       "    <tr>\n",
       "      <th>15925</th>\n",
       "      <td>ID_13569</td>\n",
       "      <td>0.000026</td>\n",
       "    </tr>\n",
       "    <tr>\n",
       "      <th>15926</th>\n",
       "      <td>ID_31670</td>\n",
       "      <td>0.000108</td>\n",
       "    </tr>\n",
       "    <tr>\n",
       "      <th>15927</th>\n",
       "      <td>ID_31759</td>\n",
       "      <td>0.002101</td>\n",
       "    </tr>\n",
       "    <tr>\n",
       "      <th>15928</th>\n",
       "      <td>ID_5855</td>\n",
       "      <td>0.000138</td>\n",
       "    </tr>\n",
       "    <tr>\n",
       "      <th>15929</th>\n",
       "      <td>ID_13889</td>\n",
       "      <td>0.000504</td>\n",
       "    </tr>\n",
       "  </tbody>\n",
       "</table>\n",
       "<p>15930 rows × 2 columns</p>\n",
       "</div>"
      ],
      "text/plain": [
       "             Id  Predicted\n",
       "0         ID_15   0.002416\n",
       "1         ID_22   0.012327\n",
       "2         ID_23   0.012327\n",
       "3         ID_29   0.003012\n",
       "4         ID_34   0.003012\n",
       "...         ...        ...\n",
       "15925  ID_13569   0.000026\n",
       "15926  ID_31670   0.000108\n",
       "15927  ID_31759   0.002101\n",
       "15928   ID_5855   0.000138\n",
       "15929  ID_13889   0.000504\n",
       "\n",
       "[15930 rows x 2 columns]"
      ]
     },
     "execution_count": 199,
     "metadata": {},
     "output_type": "execute_result"
    }
   ],
   "source": [
    "r"
   ]
  },
  {
   "cell_type": "code",
   "execution_count": null,
   "id": "568690e2-9aa0-4a10-a0d2-68ec2f7f86d2",
   "metadata": {},
   "outputs": [],
   "source": []
  }
 ],
 "metadata": {
  "kernelspec": {
   "display_name": "Python 3 (ipykernel)",
   "language": "python",
   "name": "python3"
  },
  "language_info": {
   "codemirror_mode": {
    "name": "ipython",
    "version": 3
   },
   "file_extension": ".py",
   "mimetype": "text/x-python",
   "name": "python",
   "nbconvert_exporter": "python",
   "pygments_lexer": "ipython3",
   "version": "3.9.13"
  }
 },
 "nbformat": 4,
 "nbformat_minor": 5
}
